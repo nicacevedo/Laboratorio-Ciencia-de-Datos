{
 "cells": [
  {
   "cell_type": "markdown",
   "id": "9e305c62-191e-4a8a-914d-8f35d8a3eddf",
   "metadata": {},
   "source": [
    "# Tarea 2\n",
    "\n",
    "**MDS7202: Laboratorio de Programación Científica para Ciencia de Datos**\n",
    "\n",
    "*Por favor, lean detalladamente las instrucciones de la tarea antes de empezar a escribir.*\n"
   ]
  },
  {
   "cell_type": "markdown",
   "id": "d8361540-2943-4e45-be20-eb616d7ea8c3",
   "metadata": {},
   "source": [
    "----\n",
    "\n",
    "## Información General\n",
    "\n",
    "El objetivo de esta tarea es sencilla: Nosotros les propondremos algunos problemas (obtenidas desde [Kaggle](https://www.kaggle.com/)), **ustedes eligen uno y luego lo resuelven con las metodologías y herramientas que hemos visto con el curso.** Si no les gusta ninguno de los problemas o creen que son muy sencillos y desean proponer un problema personalizado, ¡no lo duden consultarlo con el equipo docente!\n",
    "\n",
    "La idea de *Kaggle* es compartir datasets y problemas para que la gente o equipos los puedan resolver. Comunmente las personas que resuelven los problemas suben su notebook con las respuestas.\n",
    "Como hemos dicho anteriormente, la copia está prohibida, sin embargo, pueden inspirarse en los notebooks que ahí se encuentren. Recuerden que la idea es que aprendan 😉.\n",
    "\n",
    "## Reglas\n",
    "\n",
    "- Fecha de entrega: 12/07/2021\n",
    "- **Grupos de 2 personas.**\n",
    "- Cualquier duda fuera del horario de clases al foro. Mensajes al equipo docente serán respondidos por este medio.\n",
    "- Estrictamente prohibida la copia. \n",
    "- Pueden usar cualquier material del curso que estimen conveniente."
   ]
  },
  {
   "cell_type": "markdown",
   "id": "073ac315-dcaa-4499-b12f-25940dcfe213",
   "metadata": {},
   "source": [
    "\n",
    "---\n",
    "\n",
    "## Problemas Que Pueden Elegir\n",
    "\n",
    "A continuación les dejamos los datasets junto a las las problemas(tareas/task) disponibles. Como dijimos anteriormente, todas se encuentran disponibles en *kaggle*. Para ver los datos, hagan click en la pestaña `data`. Por otra parte, para ver la(s) tarea(s), hagan click en la pestaña `tasks`. Para descargar los datos, quizas les solicite registrarse.\n",
    "\n",
    "\n",
    "\n",
    "*Lamentablemente (al igual que todo lo relacionado con Data Science) todo está en ingles. Si tienen problemas con entender alguno de los problemas, les recomendamos [DeepL](https://www.deepl.com/translator) para traducir. Si aún tienen problemas, no duden consultar al equipo docente.*\n",
    "\n",
    "\n",
    "### 1. [Clasificación de Texto] - Amazon Fine Food Reviews 🍲\n",
    "\n",
    "*Analyze ~500,000 food reviews from Amazon*\n",
    "\n",
    "> **Objetivo**: Predecir que tan rica es una comida.\n",
    "\n",
    "- Dataset: https://www.kaggle.com/snap/amazon-fine-food-reviews\n",
    "- Tarea: Predecir el rating `score`.\n",
    "\n",
    "### 2. [Clasificación] Pima Indians Diabetes Database 👨‍⚕️👩‍⚕️\n",
    "\n",
    "*Predict the onset of diabetes based on diagnostic measures*\n",
    "\n",
    "> **Objetivo**: Predecir si una persona tiene o no diabetes.\n",
    "\n",
    "- Dataset: https://www.kaggle.com/uciml/pima-indians-diabetes-database\n",
    "- Tarea: Predecir la variable binaria `Outcome`.\n",
    "\n",
    "### 3. [Clasificación Binaria] - Learning from Imbalanced Insurance Data 🚙\n",
    "\n",
    "*Cross-sell Prediction*\n",
    "\n",
    "> **Objetivo**: Predecir si una persona está interesada o no en un seguro de vehículos\n",
    "\n",
    "- Dataset: https://www.kaggle.com/arashnic/imbalanced-data-practice/tasks?taskId=2613\n",
    "- Tarea: Predecir `target`.\n",
    "\n",
    "\n",
    "### 4. [Clasificación Binaria] Mushroom Classification 🍄\n",
    "\n",
    "*Safe to eat or deadly poison?* (no contiene clase alucinógena)\n",
    "\n",
    "> **Objetivo**: Predecir si un hongo es tóxico o no.\n",
    "\n",
    "- Dataset: https://www.kaggle.com/uciml/mushroom-classification\n",
    "- Tarea: Predecir la variable binaria `class`.\n",
    "\n",
    "\n",
    "### 5. [Regresión] Metacritic Video Game Comments 🎮 \n",
    "\n",
    "*Video Game Comments from Metacritic's Best of All Times*\n",
    "\n",
    "> **Objetivo**: Predecir la nota promedio de los juegos en base a sus atributos.\n",
    "\n",
    "- Dataset: https://www.kaggle.com/dahlia25/metacritic-video-game-comments\n",
    "- Tarea: Predecir la variable numérica `Avg_Userscore`\n",
    "\n",
    "Nota: Si bien, el dataset no tiene task por defecto, consideren como tarea el predecir `Avg_Userscore`. En el caso que lo quieran aborar como clasificación, transformar las notas promedios a clases que representan intervalos enteros. "
   ]
  },
  {
   "cell_type": "markdown",
   "id": "f7732e08-d38e-47d8-b907-ce7ec277173d",
   "metadata": {},
   "source": [
    "---\n",
    "\n",
    "## Secciones Requeridas\n",
    "\n",
    "La siguiente lista detalla lo que deben hacer para resolver la tarea. Noten que es una guía referencial de como resolver la tarea (y en general puede ser aplicable a cualquier proyecto de data science). Por tanto, puede que hayan partes que no apliquen a su problema.\n",
    "\n",
    "\n",
    "### 1. Introducción [0.5 Puntos]\n",
    "\n",
    "*Esta sección es literalmente una muy breve introducción con todo lo necesario para entender que hicieron en su proyecto.*\n",
    "\n",
    "- Describir brevemente el Problema\n",
    "- Describir brevemente de los datos de entrada que les provee el problema.\n",
    "- Describir qué métricas se ocupan para la evaluación del problema y por qué.\n",
    "- [Escribir al final] Describir brevemente el modelo que usaron para resolver el problema (incluyendo las transformaciones intermedias de datos).\n",
    "- [Escribir al final] Indicar si lograron resolver el problema a través de su modelo. Indiquen además si creen que los resultados de su mejor modelo son aceptables.\n",
    "\n",
    "### 2. Análisis Exploratorio de Datos [1.5 Punto]\n",
    "\n",
    "\n",
    "*La idea de esta sección es que exploren el dataset y obtengan una idea de como son los datos de su problema para que en la siguientes secciones, puedan modelarlos.*\n",
    "\n",
    "- Analizen cantidad de datos nulos, tipos de datos, duplicados, distribuciones de las variables.\n",
    "- Vean las interacciones (como por ejemplo, una scatter matrix) en las distintas variables.\n",
    "- Vean las correlaciones entre las distintas variables y los valores faltantes de cada una de estas. \n",
    "- Generen gráficos que expliquen el comportamiento de las variables de formas univariadas (i.e., una variable a la vez con respecto a otra).\n",
    "\n",
    "> **Recomendado: Usen `Pandas profilling`. `Pandas profilling` es una librería que ofrece una muy buena interfaz para explorar datos de forma automática. Pueden usarla con toda seguridad para hacer el análisis exploratorio. En el caso que la usen, **reporten los patrones y relaciones que crean interesantes** que encuentren gracias a la herramienta.\n",
    "https://pandas-profiling.github.io/pandas-profiling/docs/master/rtd/pages/getting_started.html\n",
    "\n",
    "- Pueden además proyectar los datos con PCA, T-SNE o UMAP para ver si existen relaciones entre las distintas variables de forma bi o tri dimensional.\n",
    "- Reporten los patrones y relaciones interesantes que hayan explorado en caso de no utilizar pandas profilling.\n",
    "\n",
    "\n",
    "\n",
    "### 3. Preparación de Datos [1 Punto]\n",
    "\n",
    "*Esta sección consiste distintos pasos que deben implementar (según lo requieran) para preparar sus datos con el fin de luego poder crear su modelo.*\n",
    "\n",
    "- Descartar nulls y outliers.\n",
    "- Convertir datos categóricos a One Hot Encoding.\n",
    "- Preprocesar datos ordinales.\n",
    "- Escalar, estandarizar datos numéricos.\n",
    "- Codificar texto usando Bag of Words.\n",
    "- En el caso de `scikit-learn`, setear un `Pipeline` + `ColumnTransformer`.\n",
    "- En el caso de `pytorch`, setear datasets y dataloaders.\n",
    "\n",
    "### 4. Creación del Primer modelo o *Baseline* [1 Punto]\n",
    "\n",
    "*En esta sección crearán el modelo más básico posible que resuelva el problema. La idea de este modelo usarlo como comparación para que en el siguiente paso lo puedan mejorar.*\n",
    "\n",
    "- En el caso de crear modelos con `scikit-learn`, usar un clasificador sencillo usando `Pipeline` + `GridsearchCV`. \n",
    "- En el caso de pytorch, crear una red sencilla.\n",
    "- Evaluar el modelo según las métricas de evaluación del problema y reportar.\n",
    "\n",
    "### 5. Optimizar los Modelos [1.5 Puntos]\n",
    "\n",
    "*Aquí deberán mejorar el modelo al variar los hiperparámetros que están ocupando. No se les pide 100% de nada, si se va a demorar la edad del universo en explorar su grilla, entonces achíquenla a algo que sepan que va a terminar.*\n",
    "\n",
    "\n",
    "- En el caso de usar `scikit-learn`, usen `GridSearchCV`. Pueden agregar reducciones de dimensionalidad como `PCA` o selecciones de atributos, como también usar mejores clasificadores y explorar sus hiperparámetros. Hagan grillas decentes que no se demoren mucho tiempo.\n",
    "- En el caso de usar `pytorch`, incluir mas capas ocultas en la red, variar el tamaño de las capas ocultas de la red, cambiar learning rates, variar las funciones de activación, etc... Puede serles de utilidad usar [`skorch`]('https://github.com/skorch-dev/skorch') para usar pytorch junto a `GridSearchCV`.\n",
    "\n",
    "    \n",
    "### 6. Concluir [0.5 Punto] \n",
    "\n",
    "\n",
    "*Escriban una breve conclusión del trabajo que hicieron en donde ojalá respondan las siguientes preguntas:*\n",
    "- En esta sección, respondan todas las preguntas con respecto \n",
    "- ¿Pudieron resolver exitosamente el problema?\n",
    "- ¿Son aceptables los resultados obtenidos?\n",
    "- ¿Como fue el rendimiento del baseline?\n",
    "- ¿Pudieron optimizar el baseline?\n",
    "- ¿Que tanto mejoro el baseline con respecto a sus optimizaciones?\n",
    "- ¿Estuvieron conformes con sus resultados?\n",
    "- ¿Creen que hayan mejores formas de modelar el problema?\n",
    "- ¿En general, qué aprendieron en la tarea?¿Qué no aprendieron y les gustaría haber aprendido?\n",
    "- Etc...\n",
    "\n",
    "    \n",
    "## 7. Bonus - Probar Distintas Librerías [0.3 por cada nueva librería, máximo 1.2]\n",
    "\n",
    "Utilizar cualquier librería que permita generar modelos mas complejos como [xgboost](https://xgboost.readthedocs.io/en/latest/tutorials/model.html). Esto no se limita a librerías que implementen clasificadores. Pueden usar librerías de aprendizaje imbalanceado como [imbalanced-learn](https://imbalanced-learn.org/stable/) o librerías para optimizar la búsqueda de hiperparámetros como [scikit-optimize](https://scikit-optimize.github.io/stable/).\n",
    "\n",
    "La página del proyecto de scikit-learn tiene una sección de ecosistema. Pueden encontrar propuestas interesantes ahí: [related projects](https://scikit-learn.org/stable/related_projects.html).\n",
    "Mismo caso de el de [ecosistema de pytorch](https://pytorch.org/ecosystem/)\n",
    "\n",
    "Si tienen dudas sobre si pueden usar alguna librería (es decir, no saben si contaría o no como bonus), consulten con el equipo docente. \n",
    "\n",
    "Reporten el resultado de usar estas librerías en una nueva sección.\n"
   ]
  },
  {
   "cell_type": "markdown",
   "id": "e2c2e921-65e2-4f24-a490-ecd78a996d5d",
   "metadata": {},
   "source": [
    "---\n",
    "\n",
    "## Esquema de la Tarea\n",
    "\n",
    "\n",
    "Pueden usar el siguiente esquema para organizar la tarea (y borrar todo lo anterior).\n",
    "Obviamente no deben limitarse a lo que está escrito en esta: puede incrementar en caso de más técnicas y obviar algunas partes en caso que alguna y otro punto no aplique a su problema.\n",
    "\n",
    "\n",
    "\n",
    "\n",
    "---\n",
    "---\n",
    "<br>\n",
    "\n",
    "<br>\n",
    "\n",
    "<br>"
   ]
  },
  {
   "cell_type": "markdown",
   "id": "eb71fbb2-84b3-4989-b33a-b42a0a53de07",
   "metadata": {},
   "source": [
    "\n",
    "\n",
    "# Tarea 2 - \\<Nombre del Problema\\>\n",
    "\n",
    "### Equipo:\n",
    "\n",
    "- \\<Primer integrante\\>\n",
    "- \\<Segundo integrante\\>\n",
    "\n",
    "### Link de repositorio de GitHub: `\\<http://....\\>`\n",
    "\n"
   ]
  },
  {
   "cell_type": "markdown",
   "id": "e01e0f29-975f-4025-9ec1-2f2abfb677b2",
   "metadata": {},
   "source": [
    "\n",
    "## 1. Introducción\n",
    "\n",
    "El problema que escogimos es el ... Su objetivo consiste en ...\n",
    "\n",
    "Los datos que proveen es un dataset con X ejemplos que describen una observación de ... \n",
    "Son N atributos y la variable de predicción es de tipo ...\n",
    "\n",
    "La tarea se evalua en base a la métrica ... ya que esta permite medir ...\n",
    "\n",
    "Nuestra propuesta para resolver el problema consistió en un modelo basado en...\n",
    "\n",
    "Nuestro modelo cumplió/no cumplió las expectativas..."
   ]
  },
  {
   "cell_type": "markdown",
   "id": "f321b0b9-9bb5-43e7-b3a1-2fa6598b62fb",
   "metadata": {},
   "source": [
    "---\n",
    "## 2. Análisis Exploratorio de Datos"
   ]
  },
  {
   "cell_type": "code",
   "execution_count": 1,
   "id": "0fe01501-fdd5-4511-98b2-4a1c2a8be62b",
   "metadata": {},
   "outputs": [],
   "source": [
    "# --> Código aquí  <--\n",
    "# Nota: Si usan pandas-profiling, usar el modo widget o html para adjuntar sus resultados al notebook de entrega*\n",
    "\n",
    "# df = pd.read_csv(...)\n",
    "# profile = ProfileReport(df, title=\"...\", explorative=True)\n",
    "# para mostrar el profile, profile.to_widgets() o profile.to_notebook_iframe()"
   ]
  },
  {
   "cell_type": "markdown",
   "id": "c23a118a-44ba-4364-8c63-133b18fdd4fe",
   "metadata": {},
   "source": [
    "\n",
    "\n",
    "Al efectuar el análisis exploratorio de datos pudimos notar lo siguiente:\n",
    "\n",
    "El atributo A tenía X datos nulos y Y duplicados... que podrían potencialmente dificultar el análisis.\n",
    "\n",
    "La variable A se distribuye de forma normal. En cambio la B en forma exponencial. La variable C es categórica.\n",
    "\n",
    "Los atributos A y B interactúan de P forma, mientras que los C y D de Q forma...\n",
    "\n",
    "Los atributos A y C se correlacionan con las variables de salida Y de forma creciente... B no tiene correlación con la salida.\n",
    "\n",
    "Además, encontramos que al proyectar en 2D ...\n",
    "\n",
    "..."
   ]
  },
  {
   "cell_type": "markdown",
   "id": "89d9b1a1-2372-4bed-8a4d-f35378404892",
   "metadata": {},
   "source": [
    "---\n",
    "\n",
    "## 3. Preparación de Datos\n",
    "\n",
    "Para preparar nuestros datos, primero eliminamos duplicados y outliers...:"
   ]
  },
  {
   "cell_type": "code",
   "execution_count": 2,
   "id": "d325913d-0a05-4261-8bca-76c3f4007f5a",
   "metadata": {},
   "outputs": [],
   "source": [
    "## Código"
   ]
  },
  {
   "cell_type": "markdown",
   "id": "a58aa5bf-c24e-4be5-8fcd-f8b03611ff7d",
   "metadata": {},
   "source": [
    "Después, imputamos ciertos datos"
   ]
  },
  {
   "cell_type": "code",
   "execution_count": 3,
   "id": "4a78628c-7e58-43cb-90a7-03baa781cd38",
   "metadata": {},
   "outputs": [],
   "source": [
    "## Código"
   ]
  },
  {
   "cell_type": "markdown",
   "id": "6f826f6f-de8b-4795-a21a-858f256778ca",
   "metadata": {},
   "source": [
    "Luego, preparamos un `ColumnTransformer` que prepara los datos:"
   ]
  },
  {
   "cell_type": "code",
   "execution_count": 4,
   "id": "8b08694d-2621-48e0-a38c-8080ee89396d",
   "metadata": {},
   "outputs": [],
   "source": [
    "## Código"
   ]
  },
  {
   "cell_type": "markdown",
   "id": "c47a872b-5668-4f6e-b80e-e4a29623c98c",
   "metadata": {},
   "source": [
    "..."
   ]
  },
  {
   "cell_type": "markdown",
   "id": "41613d44-b6ee-4bd9-9643-1ca70d720982",
   "metadata": {},
   "source": [
    "---\n",
    "\n",
    "## 4. Baseline"
   ]
  },
  {
   "cell_type": "markdown",
   "id": "d993af5b-42a8-46c0-9738-3011a08926c7",
   "metadata": {},
   "source": [
    "Adjuntamos las transformaciones anteriores en un solo `Pipeline` y agregamos al final un clasificador sencillo `ClasificadorX` \n"
   ]
  },
  {
   "cell_type": "code",
   "execution_count": 5,
   "id": "61623890-7caa-41ba-9bf2-dd82ec880653",
   "metadata": {},
   "outputs": [],
   "source": [
    "## Código\n",
    "\n",
    "# pipeline = [('etapa1', etapa1), ..., ('clf', ClasificadorX)]"
   ]
  },
  {
   "cell_type": "markdown",
   "id": "6873a48f-d96b-47a0-b25b-f795a5b69395",
   "metadata": {},
   "source": [
    "y luego lo entrenamos usando `GridSearchCV`"
   ]
  },
  {
   "cell_type": "code",
   "execution_count": 6,
   "id": "4e19802c-1789-4dbf-b194-4723bc3a5c75",
   "metadata": {},
   "outputs": [],
   "source": [
    "# gs = GridSearchCV(pipeline, metric='la_metrica_que_optimiza_el_problema')"
   ]
  },
  {
   "cell_type": "markdown",
   "id": "0643ca2c-0f84-4c61-a345-adad5d0c917e",
   "metadata": {},
   "source": [
    "Y el resultado fue el siguiente"
   ]
  },
  {
   "cell_type": "code",
   "execution_count": 7,
   "id": "55d21845-101f-4439-b35d-826517002496",
   "metadata": {},
   "outputs": [],
   "source": [
    "# gs.best_..."
   ]
  },
  {
   "cell_type": "markdown",
   "id": "c7e83bcb-3a26-4a8b-a829-87be7ff9f8ef",
   "metadata": {},
   "source": [
    "---\n",
    "\n",
    "## 5. Optimización del Modelo\n",
    "\n",
    "Ahora, agregamos selección y/o reducción de atributos y probaremos una combinación de diferentes parámetros para mejorar nuestro modelo:\n",
    "\n",
    "\n",
    "*Nota*: Procuren hacer Gridsearch sobre espacios de búsqueda razonables. Es decir, no estén 3 días buscando la mejor configuración..."
   ]
  },
  {
   "cell_type": "code",
   "execution_count": 8,
   "id": "474e8063-4ad8-4212-85da-0f54892e69e3",
   "metadata": {
    "tags": []
   },
   "outputs": [],
   "source": [
    "# pipeline2 = [('etapa1', etapa1), ('selección', ...) ..., ('clf', ClasificadorX)]\n",
    "\n",
    "# grilla_parametros = [{'seleccion': SelectPercentile , 'percentile': [25, 50, 75], 'clf': clf_1}, \n",
    "#                      {'clf': clf_2, 'steps'; n},\n",
    "#                      {...}, \n",
    "#                     ]\n",
    "# gs_2 = GridSearchCV(pipeline, grilla_parametros, metric='la_metrica_que_optimiza_el_problema')"
   ]
  },
  {
   "cell_type": "markdown",
   "id": "6f2148f8-1bfc-40bb-871e-e1f1f548f093",
   "metadata": {},
   "source": [
    "Pudimos ver que mejor modelo mejora/no mejora los resultados obtenidos en el baseline."
   ]
  },
  {
   "cell_type": "code",
   "execution_count": 9,
   "id": "ba6d4a83-0865-4234-96d7-13970f9381fe",
   "metadata": {},
   "outputs": [],
   "source": [
    "# gs_2.best_..."
   ]
  },
  {
   "cell_type": "markdown",
   "id": "7b1db1b2-0899-4fce-bc1a-8345f1edd262",
   "metadata": {},
   "source": [
    "---\n",
    "\n",
    "## 6. Conclusiones"
   ]
  },
  {
   "cell_type": "markdown",
   "id": "f1ed1995-b702-4750-a9fe-ac834673b9a1",
   "metadata": {},
   "source": [
    "Responder:\n",
    "\n",
    "- ¿Pudieron resolver exitosamente el problema?\n",
    "- ¿Son aceptables los resultados obtenidos?\n",
    "\n",
    "\n",
    "- ¿Como fue el rendimiento del baseline?\n",
    "- ¿Pudieron optimizar el baseline?\n",
    "- ¿Que tanto mejoro el baseline con respecto a sus optimizaciones?\n",
    "\n",
    "\n",
    "- ¿Estuvieron conformes con sus resultados?\n",
    "- ¿Creen que hayan mejores formas de modelar el problema?\n",
    "- ¿En general, qué aprendieron en la tarea?¿Qué no aprendieron y les gustaría haber aprendido?\n",
    "- Etc...\n",
    "\n"
   ]
  },
  {
   "cell_type": "markdown",
   "id": "592ecb9b-b0d1-4bdd-95bc-a07758bb33e8",
   "metadata": {},
   "source": [
    "---\n",
    "\n",
    "##  7. Nuevas Librerías  [Bonus]\n",
    "\n",
    "### Librería 1.\n",
    "\n",
    "Esta librería nos permitió ...\n",
    "\n",
    "### Librería 2.\n",
    "\n",
    "...\n",
    "\n"
   ]
  }
 ],
 "metadata": {
  "kernelspec": {
   "display_name": "Python 3",
   "language": "python",
   "name": "python3"
  },
  "language_info": {
   "codemirror_mode": {
    "name": "ipython",
    "version": 3
   },
   "file_extension": ".py",
   "mimetype": "text/x-python",
   "name": "python",
   "nbconvert_exporter": "python",
   "pygments_lexer": "ipython3",
   "version": "3.8.10"
  }
 },
 "nbformat": 4,
 "nbformat_minor": 5
}
