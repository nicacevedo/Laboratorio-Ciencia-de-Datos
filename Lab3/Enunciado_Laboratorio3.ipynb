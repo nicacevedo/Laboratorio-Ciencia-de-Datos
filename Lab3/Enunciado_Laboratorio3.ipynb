{
  "nbformat": 4,
  "nbformat_minor": 0,
  "metadata": {
    "kernelspec": {
      "display_name": "Python 3",
      "language": "python",
      "name": "python3"
    },
    "language_info": {
      "codemirror_mode": {
        "name": "ipython",
        "version": 3
      },
      "file_extension": ".py",
      "mimetype": "text/x-python",
      "name": "python",
      "nbconvert_exporter": "python",
      "pygments_lexer": "ipython3",
      "version": "3.8.3"
    },
    "toc": {
      "base_numbering": 1,
      "nav_menu": {},
      "number_sections": true,
      "sideBar": true,
      "skip_h1_title": true,
      "title_cell": "Tabla de Contenidos",
      "title_sidebar": "Contenidos",
      "toc_cell": false,
      "toc_position": {
        "height": "calc(100% - 180px)",
        "left": "10px",
        "top": "150px",
        "width": "241.867px"
      },
      "toc_section_display": true,
      "toc_window_display": true
    },
    "varInspector": {
      "cols": {
        "lenName": 16,
        "lenType": 16,
        "lenVar": 40
      },
      "kernels_config": {
        "python": {
          "delete_cmd_postfix": "",
          "delete_cmd_prefix": "del ",
          "library": "var_list.py",
          "varRefreshCmd": "print(var_dic_list())"
        },
        "r": {
          "delete_cmd_postfix": ") ",
          "delete_cmd_prefix": "rm(",
          "library": "var_list.r",
          "varRefreshCmd": "cat(var_dic_list()) "
        }
      },
      "types_to_exclude": [
        "module",
        "function",
        "builtin_function_or_method",
        "instance",
        "_Feature"
      ],
      "window_display": false
    },
    "colab": {
      "name": "Enunciado_Laboratorio3.ipynb",
      "provenance": [],
      "collapsed_sections": [
        "LCOUC4jss148",
        "GtG74Cphq56p"
      ],
      "toc_visible": true
    }
  },
  "cells": [
    {
      "cell_type": "markdown",
      "metadata": {
        "id": "XUZ1dFPHzAHl"
      },
      "source": [
        "<h1><center>Laboratorio 3: Clasificación y Clustering 🔮</center></h1>\n",
        "\n",
        "<center><strong>MDS7202: Laboratorio de Programación Científica para Ciencia de Datos</strong></center>"
      ]
    },
    {
      "cell_type": "markdown",
      "metadata": {
        "id": "UD8X1uhGzAHq"
      },
      "source": [
        "### Cuerpo Docente:\n",
        "\n",
        "- Profesor: Pablo Badilla\n",
        "- Auxiliar: Ignacio Meza D.\n",
        "- Ayudante: Diego Irarrázaval"
      ]
    },
    {
      "cell_type": "markdown",
      "metadata": {
        "id": "tXflExjqzAHr"
      },
      "source": [
        "### Equipo: SUPER IMPORTANTE - notebooks sin nombre no serán revisados\n",
        "\n",
        "- Nombre de alumno 1:\n",
        "- Nombre de alumno 2:\n"
      ]
    },
    {
      "cell_type": "markdown",
      "metadata": {
        "id": "AD-V0bbZzAHr"
      },
      "source": [
        "### **Link de repositorio de GitHub:** `http://....`"
      ]
    },
    {
      "cell_type": "markdown",
      "metadata": {
        "id": "EcnsiQMkzAHr"
      },
      "source": [
        "### Indice \n",
        "\n",
        "1. [Temas a tratar](#Temas-a-tratar:)\n",
        "3. [Descripcción del laboratorio](#Descripción-del-laboratorio.)\n",
        "4. [Desarrollo](#Desarrollo)"
      ]
    },
    {
      "cell_type": "markdown",
      "metadata": {
        "id": "6uBLPj1PzAHs"
      },
      "source": [
        "# Temas a tratar\n",
        "\n",
        "- Manejo de DataFrames con la libreria `pandas`.\n",
        "- Exploración del dataset y los resultados a través de visualizaciones interactivas usando `plotly`.\n",
        "- Clasificación en `scikit-learn`\n",
        "- Uso de pipelines.\n",
        "\n",
        "## Reglas:\n",
        "\n",
        "- Fecha de entrega: 4/06/2021\n",
        "- **Grupos de 2 personas**\n",
        "- **Ausentes** deberán realizar la actividad solos. \n",
        "- Cualquier duda fuera del horario de clases al foro. Mensajes al equipo docente serán respondidos por este medio.\n",
        "- Prohibidas las copias. \n",
        "- Pueden usar cualquer matrial del curso que estimen conveniente.\n",
        "\n",
        "### Objetivos principales del laboratorio\n",
        "\n",
        "- Aplicar y aprovechar las ventajas que nos ofrece la libreria `pandas`.\n",
        "- Utilizar `plotly` para obtener información gráfica del dataset.\n",
        "- Aplicar las ventajas que nos ofrece crear un pipeline.\n",
        "- Visualizar el funcionamiento de clasificadores.\n",
        "\n",
        "El laboratorio deberá ser desarrollado sin el uso indiscriminado de iteradores nativos de python (aka \"for\", \"while\"). La idea es que aprendan a exprimir al máximo las funciones optimizadas que nos entrega `pandas`, las cuales vale mencionar, son bastante más eficientes que los iteradores nativos sobre DataFrames."
      ]
    },
    {
      "cell_type": "markdown",
      "metadata": {
        "id": "MhISwri4zAHy"
      },
      "source": [
        "#Importamos librerias utiles 😸"
      ]
    },
    {
      "cell_type": "code",
      "metadata": {
        "ExecuteTime": {
          "end_time": "2021-03-29T00:08:16.884674Z",
          "start_time": "2021-03-29T00:08:16.349846Z"
        },
        "id": "uyc33dKdzAHy"
      },
      "source": [
        "# Libreria Core del lab.\n",
        "import numpy as np\n",
        "import pandas as pd\n",
        "from sklearn.pipeline import Pipeline\n",
        "from sklearn.compose import ColumnTransformer\n",
        "from sklearn.model_selection import train_test_split \n",
        "\n",
        "# Pre-procesamiento\n",
        "from sklearn.preprocessing import MinMaxScaler\n",
        "from sklearn.preprocessing import StandardScaler\n",
        "from sklearn.preprocessing import FunctionTransformer\n",
        "from sklearn.preprocessing import PowerTransformer\n",
        "from sklearn.preprocessing import OneHotEncoder\n",
        "from sklearn.tree import DecisionTreeClassifier\n",
        "\n",
        "# Metricas de evaluación\n",
        "from sklearn.metrics import classification_report\n",
        "from sklearn.metrics import accuracy_score\n",
        "from sklearn.metrics import f1_score\n",
        "from sklearn.metrics import cohen_kappa_score\n",
        "\n",
        "#Libreria para plotear\n",
        "!pip install --upgrade plotly\n",
        "import plotly.express as px\n",
        "from plotly.subplots import make_subplots\n",
        "import plotly.graph_objects as go\n",
        "\n",
        "# Proyecciones en baja dimensionalidad: UMAP\n",
        "!pip install umap-learn"
      ],
      "execution_count": null,
      "outputs": []
    },
    {
      "cell_type": "markdown",
      "metadata": {
        "id": "xpOTbQcxbSiy"
      },
      "source": [
        "# 1. Predicciones futboleras."
      ]
    },
    {
      "cell_type": "markdown",
      "metadata": {
        "id": "3Q93vbNS25bM"
      },
      "source": [
        "<p align=\"center\">\n",
        "  <img src=\"https://thumbs.gfycat.com/ThornyFrankFoxhound-size_restricted.gif\" width=\"500\">\n",
        "</p>"
      ]
    },
    {
      "cell_type": "markdown",
      "metadata": {
        "id": "jnmZfFpxTTYX"
      },
      "source": [
        "Para este laboratorio se deberá trabajar con los csv ```FullData.csv```, donde deberán aplicar algoritmos de Clustering y clasificación información relevante de jugadores de futbol.\n",
        "\n",
        "Para comenzar cargue el dataset señalado y visualice a traves de un head los atributos que posee el dataset."
      ]
    },
    {
      "cell_type": "code",
      "metadata": {
        "colab": {
          "base_uri": "https://localhost:8080/"
        },
        "id": "Jqq-s010Iwl1",
        "outputId": "9f185ff1-e75c-458e-cbd6-fe0adbbd2f97"
      },
      "source": [
        "# Usar solamente si utilizan Collab.\n",
        "from google.colab import drive\n",
        "drive.mount(\"/content/drive\")\n",
        "dir = '//content//drive//My Drive//CuerpoDocente//Laboratorios//Lab3//'"
      ],
      "execution_count": null,
      "outputs": [
        {
          "output_type": "stream",
          "text": [
            "Mounted at /content/drive\n"
          ],
          "name": "stdout"
        }
      ]
    },
    {
      "cell_type": "code",
      "metadata": {
        "id": "bED3w3tDbSCf",
        "colab": {
          "base_uri": "https://localhost:8080/",
          "height": 309
        },
        "outputId": "456a6491-a831-4ea8-e54e-2483f7da6482"
      },
      "source": [
        "df_players = pd.read_csv(dir+'stats_players.csv')\n",
        "df_players.head()"
      ],
      "execution_count": null,
      "outputs": [
        {
          "output_type": "execute_result",
          "data": {
            "text/html": [
              "<div>\n",
              "<style scoped>\n",
              "    .dataframe tbody tr th:only-of-type {\n",
              "        vertical-align: middle;\n",
              "    }\n",
              "\n",
              "    .dataframe tbody tr th {\n",
              "        vertical-align: top;\n",
              "    }\n",
              "\n",
              "    .dataframe thead th {\n",
              "        text-align: right;\n",
              "    }\n",
              "</style>\n",
              "<table border=\"1\" class=\"dataframe\">\n",
              "  <thead>\n",
              "    <tr style=\"text-align: right;\">\n",
              "      <th></th>\n",
              "      <th>Name</th>\n",
              "      <th>Nationality</th>\n",
              "      <th>National_Position</th>\n",
              "      <th>Club_Position</th>\n",
              "      <th>Height</th>\n",
              "      <th>Weight</th>\n",
              "      <th>Preffered_Foot</th>\n",
              "      <th>Age</th>\n",
              "      <th>Work_Rate</th>\n",
              "      <th>Weak_foot</th>\n",
              "      <th>Skill_Moves</th>\n",
              "      <th>Ball_Control</th>\n",
              "      <th>Dribbling</th>\n",
              "      <th>Marking</th>\n",
              "      <th>Sliding_Tackle</th>\n",
              "      <th>Standing_Tackle</th>\n",
              "      <th>Aggression</th>\n",
              "      <th>Reactions</th>\n",
              "      <th>Interceptions</th>\n",
              "      <th>Vision</th>\n",
              "      <th>Composure</th>\n",
              "      <th>Crossing</th>\n",
              "      <th>Short_Pass</th>\n",
              "      <th>Long_Pass</th>\n",
              "      <th>Acceleration</th>\n",
              "      <th>Speed</th>\n",
              "      <th>Stamina</th>\n",
              "      <th>Strength</th>\n",
              "      <th>Balance</th>\n",
              "      <th>Agility</th>\n",
              "      <th>Jumping</th>\n",
              "      <th>Heading</th>\n",
              "      <th>Shot_Power</th>\n",
              "      <th>Finishing</th>\n",
              "      <th>Long_Shots</th>\n",
              "      <th>Curve</th>\n",
              "      <th>Freekick_Accuracy</th>\n",
              "      <th>Penalties</th>\n",
              "      <th>Volleys</th>\n",
              "    </tr>\n",
              "  </thead>\n",
              "  <tbody>\n",
              "    <tr>\n",
              "      <th>0</th>\n",
              "      <td>Cristiano Ronaldo</td>\n",
              "      <td>Portugal</td>\n",
              "      <td>LS</td>\n",
              "      <td>LW</td>\n",
              "      <td>185 cm</td>\n",
              "      <td>80 kg</td>\n",
              "      <td>Right</td>\n",
              "      <td>32</td>\n",
              "      <td>High / Low</td>\n",
              "      <td>4</td>\n",
              "      <td>5</td>\n",
              "      <td>93</td>\n",
              "      <td>92</td>\n",
              "      <td>22</td>\n",
              "      <td>23</td>\n",
              "      <td>31</td>\n",
              "      <td>63</td>\n",
              "      <td>96</td>\n",
              "      <td>29</td>\n",
              "      <td>85</td>\n",
              "      <td>86</td>\n",
              "      <td>84</td>\n",
              "      <td>83</td>\n",
              "      <td>77</td>\n",
              "      <td>91</td>\n",
              "      <td>92</td>\n",
              "      <td>92</td>\n",
              "      <td>80</td>\n",
              "      <td>63</td>\n",
              "      <td>90</td>\n",
              "      <td>95</td>\n",
              "      <td>85</td>\n",
              "      <td>92</td>\n",
              "      <td>93</td>\n",
              "      <td>90</td>\n",
              "      <td>81</td>\n",
              "      <td>76</td>\n",
              "      <td>85</td>\n",
              "      <td>88</td>\n",
              "    </tr>\n",
              "    <tr>\n",
              "      <th>1</th>\n",
              "      <td>Lionel Messi</td>\n",
              "      <td>Argentina</td>\n",
              "      <td>RW</td>\n",
              "      <td>RW</td>\n",
              "      <td>170 cm</td>\n",
              "      <td>72 kg</td>\n",
              "      <td>Left</td>\n",
              "      <td>29</td>\n",
              "      <td>Medium / Medium</td>\n",
              "      <td>4</td>\n",
              "      <td>4</td>\n",
              "      <td>95</td>\n",
              "      <td>97</td>\n",
              "      <td>13</td>\n",
              "      <td>26</td>\n",
              "      <td>28</td>\n",
              "      <td>48</td>\n",
              "      <td>95</td>\n",
              "      <td>22</td>\n",
              "      <td>90</td>\n",
              "      <td>94</td>\n",
              "      <td>77</td>\n",
              "      <td>88</td>\n",
              "      <td>87</td>\n",
              "      <td>92</td>\n",
              "      <td>87</td>\n",
              "      <td>74</td>\n",
              "      <td>59</td>\n",
              "      <td>95</td>\n",
              "      <td>90</td>\n",
              "      <td>68</td>\n",
              "      <td>71</td>\n",
              "      <td>85</td>\n",
              "      <td>95</td>\n",
              "      <td>88</td>\n",
              "      <td>89</td>\n",
              "      <td>90</td>\n",
              "      <td>74</td>\n",
              "      <td>85</td>\n",
              "    </tr>\n",
              "    <tr>\n",
              "      <th>2</th>\n",
              "      <td>Neymar</td>\n",
              "      <td>Brazil</td>\n",
              "      <td>LW</td>\n",
              "      <td>LW</td>\n",
              "      <td>174 cm</td>\n",
              "      <td>68 kg</td>\n",
              "      <td>Right</td>\n",
              "      <td>25</td>\n",
              "      <td>High / Medium</td>\n",
              "      <td>5</td>\n",
              "      <td>5</td>\n",
              "      <td>95</td>\n",
              "      <td>96</td>\n",
              "      <td>21</td>\n",
              "      <td>33</td>\n",
              "      <td>24</td>\n",
              "      <td>56</td>\n",
              "      <td>88</td>\n",
              "      <td>36</td>\n",
              "      <td>80</td>\n",
              "      <td>80</td>\n",
              "      <td>75</td>\n",
              "      <td>81</td>\n",
              "      <td>75</td>\n",
              "      <td>93</td>\n",
              "      <td>90</td>\n",
              "      <td>79</td>\n",
              "      <td>49</td>\n",
              "      <td>82</td>\n",
              "      <td>96</td>\n",
              "      <td>61</td>\n",
              "      <td>62</td>\n",
              "      <td>78</td>\n",
              "      <td>89</td>\n",
              "      <td>77</td>\n",
              "      <td>79</td>\n",
              "      <td>84</td>\n",
              "      <td>81</td>\n",
              "      <td>83</td>\n",
              "    </tr>\n",
              "    <tr>\n",
              "      <th>3</th>\n",
              "      <td>Luis Suárez</td>\n",
              "      <td>Uruguay</td>\n",
              "      <td>LS</td>\n",
              "      <td>ST</td>\n",
              "      <td>182 cm</td>\n",
              "      <td>85 kg</td>\n",
              "      <td>Right</td>\n",
              "      <td>30</td>\n",
              "      <td>High / Medium</td>\n",
              "      <td>4</td>\n",
              "      <td>4</td>\n",
              "      <td>91</td>\n",
              "      <td>86</td>\n",
              "      <td>30</td>\n",
              "      <td>38</td>\n",
              "      <td>45</td>\n",
              "      <td>78</td>\n",
              "      <td>93</td>\n",
              "      <td>41</td>\n",
              "      <td>84</td>\n",
              "      <td>83</td>\n",
              "      <td>77</td>\n",
              "      <td>83</td>\n",
              "      <td>64</td>\n",
              "      <td>88</td>\n",
              "      <td>77</td>\n",
              "      <td>89</td>\n",
              "      <td>76</td>\n",
              "      <td>60</td>\n",
              "      <td>86</td>\n",
              "      <td>69</td>\n",
              "      <td>77</td>\n",
              "      <td>87</td>\n",
              "      <td>94</td>\n",
              "      <td>86</td>\n",
              "      <td>86</td>\n",
              "      <td>84</td>\n",
              "      <td>85</td>\n",
              "      <td>88</td>\n",
              "    </tr>\n",
              "    <tr>\n",
              "      <th>4</th>\n",
              "      <td>Manuel Neuer</td>\n",
              "      <td>Germany</td>\n",
              "      <td>GK</td>\n",
              "      <td>GK</td>\n",
              "      <td>193 cm</td>\n",
              "      <td>92 kg</td>\n",
              "      <td>Right</td>\n",
              "      <td>31</td>\n",
              "      <td>Medium / Medium</td>\n",
              "      <td>4</td>\n",
              "      <td>1</td>\n",
              "      <td>48</td>\n",
              "      <td>30</td>\n",
              "      <td>10</td>\n",
              "      <td>11</td>\n",
              "      <td>10</td>\n",
              "      <td>29</td>\n",
              "      <td>85</td>\n",
              "      <td>30</td>\n",
              "      <td>70</td>\n",
              "      <td>70</td>\n",
              "      <td>15</td>\n",
              "      <td>55</td>\n",
              "      <td>59</td>\n",
              "      <td>58</td>\n",
              "      <td>61</td>\n",
              "      <td>44</td>\n",
              "      <td>83</td>\n",
              "      <td>35</td>\n",
              "      <td>52</td>\n",
              "      <td>78</td>\n",
              "      <td>25</td>\n",
              "      <td>25</td>\n",
              "      <td>13</td>\n",
              "      <td>16</td>\n",
              "      <td>14</td>\n",
              "      <td>11</td>\n",
              "      <td>47</td>\n",
              "      <td>11</td>\n",
              "    </tr>\n",
              "  </tbody>\n",
              "</table>\n",
              "</div>"
            ],
            "text/plain": [
              "                Name Nationality  ... Penalties Volleys\n",
              "0  Cristiano Ronaldo    Portugal  ...        85      88\n",
              "1       Lionel Messi   Argentina  ...        74      85\n",
              "2             Neymar      Brazil  ...        81      83\n",
              "3        Luis Suárez     Uruguay  ...        85      88\n",
              "4       Manuel Neuer     Germany  ...        47      11\n",
              "\n",
              "[5 rows x 39 columns]"
            ]
          },
          "metadata": {
            "tags": []
          },
          "execution_count": 5
        }
      ]
    },
    {
      "cell_type": "markdown",
      "metadata": {
        "id": "eILYmC8_L-xD"
      },
      "source": [
        "De la tabla se reconoce:\n",
        "\n",
        "1. `Name`: Nombre del jugador\n",
        "2. `Nationality`: Nacionalidad del jugador\n",
        "3. `National_Position`: Posición en la selección, este valor solo existe cuando el jugador es seleccionado nacional.\n",
        "4. `Club_Position`: Posición del jugador. Este parámetro tiene valor en gran parte de los jugadores, existen casos como `Res` o `Sub` que no los deberá considerar en la respectiva sección.\n",
        "5. `Height`: Altura del jugador en centímetros. Si nota esta variable tiene un string, transforme a int.\n",
        "6. `Weight`: Peso del jugador en kilogramos. Si nota esta variable tiene un string, transforme a int.\n",
        "7. `Preffered_Foot`: Pie con que prefiere patear.\n",
        "8. `Age`: Edad\n",
        "9. `Work_Rate`: Frecuencia con que trabaja.\n",
        "\n",
        "Mientras que el resto de las características representan estadísticas personales (de acuerdo a la habilidad) para cada uno de los jugadores.\n"
      ]
    },
    {
      "cell_type": "markdown",
      "metadata": {
        "id": "2R3b7Qe501t5"
      },
      "source": [
        "## 1.1 Predicción de seleccionados nacionales. (2 puntos)\n",
        "\n",
        "<p align=\"center\">\n",
        "  <img src=\"https://drive.google.com/uc?export=view&id=1BnO4tyh3vM2P199Ec9s3JjngQ4qQ9seP\"\n",
        "\" width=\"300\">\n",
        "</p>\n"
      ]
    },
    {
      "cell_type": "markdown",
      "metadata": {
        "id": "PIe_Ha58pQRC"
      },
      "source": [
        "### 1.1.1 Generación de Labels para la Clasificación"
      ]
    },
    {
      "cell_type": "markdown",
      "metadata": {
        "id": "qqKb0I6wHktb"
      },
      "source": [
        "Tras el trágico despido de la mítica mascota de la población de Maipú, *Renacín*, decide adentrarse en la predicción futbolera. Para esto, utilizando los datos cargados en las celdas anteriores, le consulta si es posible predecir **si un jugador de football será seleccionado nacional en base a sus estadísticas**\n",
        "\n",
        "En este primer experimento de clasificación comience generando las labels para la clasificación. Para esto, trabaje sobre el atributo ```National_Position``` suponiendo que los valores nulos son jugadores no seleccionados para representar a su país. Hecho esto, ¿Como se distribuyen los datos para cada clase?, comente lo que observa.\n"
      ]
    },
    {
      "cell_type": "code",
      "metadata": {
        "id": "uwKaIuho4lqn"
      },
      "source": [
        "### Código aquí ###"
      ],
      "execution_count": null,
      "outputs": []
    },
    {
      "cell_type": "code",
      "metadata": {
        "id": "OgHTWohiNFJj"
      },
      "source": [
        "print(f\"Cantidad de datos etiquetados como seleccionados (1): {(df_players.National_Position == 1).sum()}\")\n",
        "print(f\"Cantidad de datos etiquetados como no-seleccionados (0): {(df_players.National_Position == 0).sum()}\")"
      ],
      "execution_count": null,
      "outputs": []
    },
    {
      "cell_type": "markdown",
      "metadata": {
        "id": "0F70XPRFpWH9"
      },
      "source": [
        "### 1.1.2 Camino a la Clasificación\n",
        "\n",
        "<p align=\"center\">\n",
        "  <img src=\"http://vignette3.wikia.nocookie.net/inciclopedia/images/c/cd/Patada_Medel_Messi.gif/revision/latest?cb=20150705215005\" width=\"300\">\n",
        "</p>\n",
        "\n"
      ]
    },
    {
      "cell_type": "markdown",
      "metadata": {
        "id": "Qb3td7-8a7MG"
      },
      "source": [
        "Si bien los atributos de interés se encuentran en su mayoría limpios, existen valores mal ingresados al `DataFrame`. Para esto: \n",
        "\n",
        "1. Transforme a enteros todos los valores numéricos de la tabla que considere pertinentes. Por ejemplo: El peso aparece como strings y además estos continene la unidad. En este caso, debería transformar estos valores a enteros. Puede usar directamente funciones sobre el DataFrame (como `apply`) o el submódulo de las Series `str`.\n",
        "2. Luego, aplique un ```ColumnTransformer``` para pre-procesar los datos del DataFrame de la siguiente forma:\n",
        "\n",
        "Aplicar ```OneHotEncoder()``` sobre los atributos:\n",
        "\n",
        "```python\n",
        "['Preffered_Foot', 'Work_Rate']\n",
        "```\n",
        "\n",
        "Aplicar ```MinMaxScaler()``` sobre los atributos:\n",
        "\n",
        "```python\n",
        "['Age']\n",
        "```\n",
        "\n",
        "Aplicar ```StandardScaler()``` sobre los atributos:\n",
        "\n",
        "```python\n",
        "['Height', 'Weak_foot', 'Skill_Moves', 'Ball_Control', 'Dribbling', 'Marking', 'Sliding_Tackle', 'Standing_Tackle', 'Aggression', 'Reactions','Interceptions', 'Vision', 'Composure', 'Crossing', 'Short_Pass', 'Long_Pass', 'Acceleration', 'Speed', 'Stamina', 'Strength', 'Balance', 'Agility', 'Jumping', 'Heading', 'Shot_Power', 'Finishing', 'Long_Shots', 'Curve', 'Freekick_Accuracy', 'Penalties', 'Volleys']\n",
        "```\n",
        "\n",
        "**Nota 2**: Puede copiar/pegar directamente las columnas en el `ColumnTransformer`.\n",
        "\n",
        "\n",
        "Hecho lo anterior, defina al menos 3 pipelines para la clasificación donde anexe las transformaciones señaladas variando entre cada pipeline solo los clasificadores (puede escoger cualquiera de los clasificadores vistos en clases).\n",
        "\n",
        "**To-Do:**\n",
        "\n",
        "- [ ] Modificar valores mal ingresados.\n",
        "- [ ] Aplicar ```ColumnTransformer``` sobre los datos a través de un pipeline.\n",
        "- [ ] Crear 3 pipelines con diferentes clasificadores.\n",
        "- [ ] No entrenar los datos aún.\n",
        "\n",
        "**Nota:** No es necesario entrenar los clasificadores aún."
      ]
    },
    {
      "cell_type": "code",
      "metadata": {
        "id": "cS-ZiW6YUgXS"
      },
      "source": [
        "### Código aquí ###"
      ],
      "execution_count": null,
      "outputs": []
    },
    {
      "cell_type": "markdown",
      "metadata": {
        "id": "dnC5arxmR93Y"
      },
      "source": [
        "### 1.1.3 Métricas de evaluación + Opcional\n",
        "\n",
        "<p align=\"center\">\n",
        "  <img src=\"https://media4.giphy.com/media/3orif8r5vpbAdQU3iU/200w.gif?cid=82a1493btc1h43n1h4c59p13kjv6adugso4lo4292zbgt66b&rid=200w.gif&ct=g\" width=\"300\">\n",
        "</p>"
      ]
    },
    {
      "cell_type": "markdown",
      "metadata": {
        "id": "gecJEKsrXMjg"
      },
      "source": [
        "Interesado por saber que tan bien funciona su clasificador, Renacin le solicita que construya **a mano** las siguientes métricas de evaluación para el caso de **clasificación binaria**:\n",
        "\n",
        "- Accuracy (Exactitud):\n",
        "\n",
        "$$Accuracy = \\dfrac{número \\, de \\, predicciones \\, correctas}{número \\, de \\,predicciones \\, totales}$$\n",
        "\n",
        "\n",
        "- Precision: \n",
        "\n",
        "$$Precision = \\dfrac{Verdaderos \\, positivos}{Verdaderos \\, positivos + Falsos \\, positivos}$$\n",
        "\n",
        "- Recall:\n",
        "\n",
        "$$Recall = \\dfrac{Verdaderos \\, positivos}{Verdaderos \\, positivos + Falsos \\,negativos}$$\n",
        "\n",
        "<p align=\"center\">\n",
        "  <img src=\"https://www.researchgate.net/publication/336402347/figure/fig3/AS:812472659349505@1570719985505/Calculation-of-Precision-Recall-and-Accuracy-in-the-confusion-matrix.ppm\" width=\"350\">\n",
        "</p>\n",
        "\n",
        "**To-Do:**\n",
        "\n",
        "- [ ] Crear funciones para las métricas para clasificación binaria: Accuracy, Precision y Recall. \n",
        "- [ ] Compruebe el correcto funcionamiento de sus métricas a través de los test.\n",
        "\n",
        "**Hint:** Utilice confusion_matrix para obtener TP, FP, FN y TN.\n",
        "\n"
      ]
    },
    {
      "cell_type": "code",
      "metadata": {
        "id": "kaR9cTsecVZt"
      },
      "source": [
        "def accuracy(y_true, y_pred):\n",
        "  ##### Código aquí #######\n",
        "  pass\n",
        "\n",
        "def presicion(y_true, y_pred):\n",
        "  ##### Código aquí #######\n",
        "  pass\n",
        "\n",
        "def recall(y_true, y_pred):\n",
        "  ##### Código aquí #######\n",
        "  pass"
      ],
      "execution_count": null,
      "outputs": []
    },
    {
      "cell_type": "code",
      "metadata": {
        "id": "9HfidIAmcy6r"
      },
      "source": [
        "from sklearn.metrics import recall_score\n",
        "from sklearn.metrics import precision_score\n",
        "\n",
        "y_true = [0, 1, 0, 0, 1, 0]\n",
        "y_pred = [0, 0, 1, 0, 0, 1]\n",
        "\n",
        "# Tests de metricas\n",
        "assert accuracy_score(y_true, y_pred) == accuracy(y_true, y_pred)\n",
        "assert recall_score(y_true, y_pred) == recall(y_true, y_pred)\n",
        "assert precision_score(y_true, y_pred) == precision(y_true, y_pred)"
      ],
      "execution_count": null,
      "outputs": []
    },
    {
      "cell_type": "markdown",
      "metadata": {
        "id": "MpKq6oO3vCNL"
      },
      "source": [
        "### 1.1.4 Entrenemos los pipelines\n",
        "\n",
        "<p align=\"center\">\n",
        "  <img src=\"https://i.gifer.com/7Cc8.gif\" width=\"300\">\n",
        "</p>\n"
      ]
    },
    {
      "cell_type": "markdown",
      "metadata": {
        "id": "wE_1aZaIvOeN"
      },
      "source": [
        "Entrene en base al pipeline generado en los pasos anteriores, procure separar los datos de entrenamiento en un conjunto de entrenamiento y de prueba (la proporción queda a su juicio). Una vez entrenado, muestre los resultados para cada uno de los clasificadores y comente lo que observa de los resultados obtenidos usando las métricas creadas anteriormente, ¿podrían mejorarse los resultados?\n",
        "\n",
        "**To-Do**:\n",
        "\n",
        "- [ ] Separar el conjunto de datos en entrenamiento y de prueba.\n",
        "- [ ] Entrenar el pipeline.\n",
        "- [ ] Utilizar las métricas codificadas anteriormente y analizar los resultados.\n"
      ]
    },
    {
      "cell_type": "code",
      "metadata": {
        "id": "A6Sr8w6vUrGH"
      },
      "source": [
        "### Código aquí ###"
      ],
      "execution_count": null,
      "outputs": []
    },
    {
      "cell_type": "markdown",
      "metadata": {
        "id": "QgSeo0aIx9ow"
      },
      "source": [
        "**Respuesta**:\n",
        "\n",
        "```\n",
        "Comente de resultados observados y si es posible mejorar los resultados.\n",
        "```"
      ]
    },
    {
      "cell_type": "markdown",
      "metadata": {
        "id": "ix97Ho4uOARH"
      },
      "source": [
        "## 1.2 Predicción de posiciones de jugadores. (2 puntos)\n",
        "\n",
        "<p align=\"center\">\n",
        "  <img src=\"https://pbs.twimg.com/media/E1rfA1aWEAYU6Ny.jpg\" width=\"300\">\n",
        "</p>"
      ]
    },
    {
      "cell_type": "markdown",
      "metadata": {
        "id": "oHAwZfV8hMsk"
      },
      "source": [
        "### 1.2.1 Creación de nuevas labels.\n",
        "\n"
      ]
    },
    {
      "cell_type": "markdown",
      "metadata": {
        "id": "zcg_hg5QaqJ6"
      },
      "source": [
        "No conforme con el trabajo de la sección 1.1, Renacin les *ordena* que construyan un clasificador nuevo, pero para predecir la posición de los jugadores del dataset. Para lograr esto, les pide que etiqueten de la siguiente manera los valores que aparecen en el atributo ```Club_Position```, con esto les recalca que no deben utilizar los valores ```Sub``` y ```Res``` de este atributo, pidiendo que agrupen los valores en los siguientes grupos:\n",
        "\n",
        "```python\n",
        "Ataque=['ST', 'CAM','RS','LF','LAM','LS','RF','RAM','CF']\n",
        "MedioCampistas=['RCM','LW', 'RW', 'LCM','LM', 'RM', 'CM']\n",
        "Defensas=['LCB','RB','RCB', 'LDM','LB','CDM','RDM','CB','RWB','LWB']\n",
        "Arquero =['GK']\n",
        "```\n",
        "\n",
        "Con lo señalado, Renacin les señala que no deberian utilizar el label utilizado en la sección 1.1, ya que el problema de clasificación ahora es de posiciones.\n",
        "\n",
        "**To-Do**:\n",
        "\n",
        "- [ ] Aplique las etiquetas de ```Ataque```, ```MedioCampista```, ```Defensa``` y ```Arquero``` en los valores señalados en esta sección.\n",
        "- [ ] Muestre como se distribuyen los datos etiquetados."
      ]
    },
    {
      "cell_type": "code",
      "metadata": {
        "id": "P6hqQN-zRnCM"
      },
      "source": [
        "print(f\"Cantidad de datos etiquetados como delantero: {(df_players.Club_Position == 'Delantero').sum()}\")\n",
        "print(f\"Cantidad de datos etiquetados como defensa: {(df_players.Club_Position == 'Defensa').sum()}\")\n",
        "print(f\"Cantidad de datos etiquetados como medio campistas: {(df_players.Club_Position == 'Medio').sum()}\")\n",
        "print(f\"Cantidad de datos etiquetados como arqueros: {(df_players.Club_Position == 'Arquero').sum()}\")"
      ],
      "execution_count": null,
      "outputs": []
    },
    {
      "cell_type": "markdown",
      "metadata": {
        "id": "_8ofBmMQWvAL"
      },
      "source": [
        "### 1.2.2 Entrenar un pipeline"
      ]
    },
    {
      "cell_type": "markdown",
      "metadata": {
        "id": "hkFJXw6Vasj_"
      },
      "source": [
        "Aplicando el mismo preprocesamiento solicitado en 1.1.2, genere un pipeline con un clasificador a gusto y evalúe al modelo de clasificación utilizando la **librería `scikit-learn`** (esto debido a que este es un problema multi clase y las funciones solicitadas anteriormente era para una clasificación binaria).\n",
        "\n",
        "De los resultados obtenidos, ¿El modelo pudo clasificar mejor este problema o el de la sección 1.1?, Comente sus resultados.\n",
        "\n",
        "**To-Do**:\n",
        "\n",
        "- [ ] Genere un pipeline similar al visto en la sección 1.1.2.\n",
        "- [ ] Aplique las métricas ofrecidas por la librería scikit-learn.\n",
        "- [ ] Responda la pregunta del enunciado."
      ]
    },
    {
      "cell_type": "code",
      "metadata": {
        "id": "lCMVwaqdYi_V"
      },
      "source": [
        "### Código aquí ###"
      ],
      "execution_count": null,
      "outputs": []
    },
    {
      "cell_type": "markdown",
      "metadata": {
        "id": "jYIGvmRjYh3w"
      },
      "source": [
        "**Respuesta**:\n",
        "\n",
        "```\n",
        "Comente de resultados observados.\n",
        "```"
      ]
    },
    {
      "cell_type": "markdown",
      "metadata": {
        "id": "C-vkB4xoOGtM"
      },
      "source": [
        "## 1.3 Clustering Sobre el Dataset (2 puntos)\n",
        "\n",
        "<p align=\"center\">\n",
        "  <img src=\"https://www.googleapis.com/download/storage/v1/b/kaggle-user-content/o/inbox%2F1832816%2F349289c622faaff3afc517a46fcf4c71%2Fk-means.jpg?generation=1577258176400530&alt=media\" width=\"200\">\n",
        "</p>"
      ]
    },
    {
      "cell_type": "markdown",
      "metadata": {
        "id": "LCOUC4jss148"
      },
      "source": [
        "### 1.3.1 Elección de numero de clusters\n",
        "\n",
        "<p align=\"center\">\n",
        "  <img src=\"https://media1.tenor.com/images/a85e9df2f5784d6513dce853ba9d5755/tenor.gif?itemid=18229271\" width=\"200\">\n",
        "</p>\n",
        "\n",
        "\n"
      ]
    },
    {
      "cell_type": "markdown",
      "metadata": {
        "id": "UZYqQwewJBT4"
      },
      "source": [
        "\n",
        "Entrene un k-means con 3, 4 y 5 clusters. ¿Las agrupaciones son lógicas usando un análisis visual?, Grafique los clusters con el código dispuesto más abajo y comente cual de las opciones presenta una mejor agrupación.\n",
        "\n",
        "En base al análisis realizado, ubique la posición de los cluster en la cancha. Solo señale a que posición equivaldría tomando de referencia:\n",
        "\n",
        "- Ataque\n",
        "- Medio campistas\n",
        "- Defensas\n",
        "- Arquero \n",
        "\n",
        "**To-Do**:\n",
        "\n",
        "- [ ] Escoger un numero de cluster y justificar elección.\n",
        "- [ ] Comentar si las agrupaciones son lógicas a través de un análisis visual.\n",
        "- [ ] Graficar los resultados obtenidos y visualizar las agrupaciones obtenidas.\n"
      ]
    },
    {
      "cell_type": "code",
      "metadata": {
        "id": "DdhaA2Ok7csU"
      },
      "source": [
        "from umap import UMAP\n",
        "\n",
        "def graficar_clusters(clusters, preprocessed_data = preprocessed_data,posicion = df_players.Club_Position.values):\n",
        "  # Entreguele a esta función solo los clusters, el resto de parametros debería funcionar por default.\n",
        "  umap = UMAP()\n",
        "  projections = umap.fit_transform(preprocessed_data)\n",
        "  fig = px.scatter(x=projections[:,0], y=projections[:,1], color=clusters, hover_data={'posicion': posicion}) \n",
        "  fig.show()"
      ],
      "execution_count": null,
      "outputs": []
    },
    {
      "cell_type": "code",
      "metadata": {
        "id": "RpjtdoWtZIsX"
      },
      "source": [
        "### Código aquí ###"
      ],
      "execution_count": null,
      "outputs": []
    },
    {
      "cell_type": "markdown",
      "metadata": {
        "id": "Ofzi66SELNof"
      },
      "source": [
        "**Respuesta**:\n",
        "\n",
        "```\n",
        "Comente de resultados observados.\n",
        "```"
      ]
    },
    {
      "cell_type": "markdown",
      "metadata": {
        "id": "GtG74Cphq56p"
      },
      "source": [
        "### 1.3.2 Búsqueda Número Óptimo de Clusters: Método del Codo **(Opcional 0.5 puntos)**\n",
        "\n",
        "<p align=\"center\">\n",
        "  <img src=\"https://c.tenor.com/fk4p5HzTi5gAAAAC/elbow-high-five.gif\" width=\"300\">\n",
        "</p>\n",
        "\n",
        "\n",
        "\n"
      ]
    },
    {
      "cell_type": "markdown",
      "metadata": {
        "id": "5srcL8mUav91"
      },
      "source": [
        "Renancin muy indeciso de sus resultados le comenta que desea realizar un último trabajo. En esta última tarea le solicita la agrupación de los datos obtenidos en la sección 1.2 utilizando K-means. Para esto usted deberá visualizar a través del método del codo el número óptimo de agrupaciones para los datos. \n",
        "\n",
        "**Hint:** Revisar las clases y encontrar el código.\n",
        "\n",
        "**To-Do**:\n",
        "\n",
        "- [ ] Pre-procesar los datos con el mismo preprocesamiento aplicado en 1.2\n",
        "- [ ] Utilizar el método del codo para obtener el número de clusters."
      ]
    },
    {
      "cell_type": "code",
      "metadata": {
        "id": "quMrPTciU30i"
      },
      "source": [
        "### Código aquí ###"
      ],
      "execution_count": null,
      "outputs": []
    },
    {
      "cell_type": "markdown",
      "metadata": {
        "id": "4o-DvbnPZEJf"
      },
      "source": [
        "**Respuesta**:\n",
        "\n",
        "```\n",
        "Comente de resultados observados y si es posible mejorar los resultados.\n",
        "```"
      ]
    },
    {
      "cell_type": "markdown",
      "metadata": {
        "id": "Rg4ZMq8ezAH6"
      },
      "source": [
        "# Conclusión\n",
        "Eso ha sido todo para el lab de hoy, recuerden que el laboratorio tiene un plazo de entrega de una semana y que **los días de atraso no se pueden utilizar para entregas de lab, solo para tareas**. Cualquier duda del laboratorio, no duden en contactarnos por mail o U-cursos.\n",
        "\n",
        "<p align=\"center\">\n",
        "  <img src=\"https://media2.giphy.com/media/l1J3CbFgn5o7DGRuE/giphy.gif\">\n",
        "</p>"
      ]
    }
  ]
}