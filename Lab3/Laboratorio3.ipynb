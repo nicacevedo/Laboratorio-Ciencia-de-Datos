{
 "cells": [
  {
   "cell_type": "markdown",
   "metadata": {
    "id": "XUZ1dFPHzAHl"
   },
   "source": [
    "<h1><center>Laboratorio 3: Clasificación y Clustering 🔮</center></h1>\n",
    "\n",
    "<center><strong>MDS7202: Laboratorio de Programación Científica para Ciencia de Datos</strong></center>"
   ]
  },
  {
   "cell_type": "markdown",
   "metadata": {
    "id": "UD8X1uhGzAHq"
   },
   "source": [
    "### Cuerpo Docente:\n",
    "\n",
    "- Profesor: Pablo Badilla\n",
    "- Auxiliar: Ignacio Meza D.\n",
    "- Ayudante: Diego Irarrázaval"
   ]
  },
  {
   "cell_type": "markdown",
   "metadata": {
    "id": "tXflExjqzAHr"
   },
   "source": [
    "### Equipo: SUPER IMPORTANTE - notebooks sin nombre no serán revisados\n",
    "\n",
    "- Nombre de alumno 1: Nicolás Acevedo\n",
    "- Nombre de alumno 2: Branco Paineman\n",
    "- Nombre de alumno 3: Pablo Ubilla\n",
    "\n",
    "<i>Nota: Nuestro grupo tiene permiso para ser de 3</i>\n"
   ]
  },
  {
   "cell_type": "markdown",
   "metadata": {
    "id": "AD-V0bbZzAHr"
   },
   "source": [
    "### **Link de repositorio de GitHub:** `http://....`"
   ]
  },
  {
   "cell_type": "markdown",
   "metadata": {
    "id": "EcnsiQMkzAHr"
   },
   "source": [
    "### Indice \n",
    "\n",
    "1. [Temas a tratar](#Temas-a-tratar:)\n",
    "3. [Descripcción del laboratorio](#Descripción-del-laboratorio.)\n",
    "4. [Desarrollo](#Desarrollo)"
   ]
  },
  {
   "cell_type": "markdown",
   "metadata": {
    "id": "6uBLPj1PzAHs"
   },
   "source": [
    "# Temas a tratar\n",
    "\n",
    "- Manejo de DataFrames con la libreria `pandas`.\n",
    "- Exploración del dataset y los resultados a través de visualizaciones interactivas usando `plotly`.\n",
    "- Clasificación en `scikit-learn`\n",
    "- Uso de pipelines.\n",
    "\n",
    "## Reglas:\n",
    "\n",
    "- Fecha de entrega: 4/06/2021\n",
    "- **Grupos de 2 personas**\n",
    "- **Ausentes** deberán realizar la actividad solos. \n",
    "- Cualquier duda fuera del horario de clases al foro. Mensajes al equipo docente serán respondidos por este medio.\n",
    "- Prohibidas las copias. \n",
    "- Pueden usar cualquer matrial del curso que estimen conveniente.\n",
    "\n",
    "### Objetivos principales del laboratorio\n",
    "\n",
    "- Aplicar y aprovechar las ventajas que nos ofrece la libreria `pandas`.\n",
    "- Utilizar `plotly` para obtener información gráfica del dataset.\n",
    "- Aplicar las ventajas que nos ofrece crear un pipeline.\n",
    "- Visualizar el funcionamiento de clasificadores.\n",
    "\n",
    "El laboratorio deberá ser desarrollado sin el uso indiscriminado de iteradores nativos de python (aka \"for\", \"while\"). La idea es que aprendan a exprimir al máximo las funciones optimizadas que nos entrega `pandas`, las cuales vale mencionar, son bastante más eficientes que los iteradores nativos sobre DataFrames."
   ]
  },
  {
   "cell_type": "markdown",
   "metadata": {
    "id": "MhISwri4zAHy"
   },
   "source": [
    "#Importamos librerias utiles 😸"
   ]
  },
  {
   "cell_type": "code",
   "execution_count": 75,
   "metadata": {
    "ExecuteTime": {
     "end_time": "2021-03-29T00:08:16.884674Z",
     "start_time": "2021-03-29T00:08:16.349846Z"
    },
    "id": "uyc33dKdzAHy"
   },
   "outputs": [
    {
     "output_type": "stream",
     "name": "stdout",
     "text": [
      "Requirement already satisfied: plotly in c:\\users\\niace\\appdata\\local\\programs\\python\\python39\\lib\\site-packages (4.14.3)\n",
      "Requirement already satisfied: six in c:\\users\\niace\\appdata\\roaming\\python\\python39\\site-packages (from plotly) (1.15.0)\n",
      "Requirement already satisfied: retrying>=1.3.3 in c:\\users\\niace\\appdata\\local\\programs\\python\\python39\\lib\\site-packages (from plotly) (1.3.3)\n"
     ]
    }
   ],
   "source": [
    "# Libreria Core del lab.\n",
    "import numpy as np\n",
    "import pandas as pd\n",
    "from sklearn.pipeline import Pipeline\n",
    "from sklearn.compose import ColumnTransformer\n",
    "from sklearn.model_selection import train_test_split \n",
    "\n",
    "# Pre-procesamiento\n",
    "from sklearn.preprocessing import MinMaxScaler\n",
    "from sklearn.preprocessing import StandardScaler\n",
    "from sklearn.preprocessing import FunctionTransformer\n",
    "from sklearn.preprocessing import PowerTransformer\n",
    "from sklearn.preprocessing import OneHotEncoder\n",
    "from sklearn.tree import DecisionTreeClassifier\n",
    "from sklearn.neighbors import KNeighborsClassifier\n",
    "\n",
    "# Metricas de evaluación\n",
    "from sklearn.metrics import classification_report\n",
    "from sklearn.metrics import accuracy_score\n",
    "from sklearn.metrics import f1_score\n",
    "from sklearn.metrics import cohen_kappa_score\n",
    "\n",
    "#Libreria para plotear\n",
    "!pip install --upgrade plotly\n",
    "import plotly.express as px\n",
    "from plotly.subplots import make_subplots\n",
    "import plotly.graph_objects as go\n",
    "\n",
    "# Proyecciones en baja dimensionalidad: UMAP\n",
    "# !pip install umap-learn"
   ]
  },
  {
   "cell_type": "markdown",
   "metadata": {
    "id": "xpOTbQcxbSiy"
   },
   "source": [
    "# 1. Predicciones futboleras."
   ]
  },
  {
   "cell_type": "markdown",
   "metadata": {
    "id": "3Q93vbNS25bM"
   },
   "source": [
    "<p align=\"center\">\n",
    "  <img src=\"https://thumbs.gfycat.com/ThornyFrankFoxhound-size_restricted.gif\" width=\"500\">\n",
    "</p>"
   ]
  },
  {
   "cell_type": "markdown",
   "metadata": {
    "id": "jnmZfFpxTTYX"
   },
   "source": [
    "Para este laboratorio se deberá trabajar con los csv ```FullData.csv```, donde deberán aplicar algoritmos de Clustering y clasificación información relevante de jugadores de futbol.\n",
    "\n",
    "Para comenzar cargue el dataset señalado y visualice a traves de un head los atributos que posee el dataset."
   ]
  },
  {
   "cell_type": "code",
   "execution_count": 76,
   "metadata": {
    "colab": {
     "base_uri": "https://localhost:8080/",
     "height": 309
    },
    "id": "bED3w3tDbSCf",
    "outputId": "456a6491-a831-4ea8-e54e-2483f7da6482"
   },
   "outputs": [],
   "source": [
    "# df_players = pd.read_csv('./stats_players.csv').head(20)\n",
    "# df_players"
   ]
  },
  {
   "cell_type": "markdown",
   "metadata": {
    "id": "eILYmC8_L-xD"
   },
   "source": [
    "De la tabla se reconoce:\n",
    "\n",
    "1. `Name`: Nombre del jugador\n",
    "2. `Nationality`: Nacionalidad del jugador\n",
    "3. `National_Position`: Posición en la selección, este valor solo existe cuando el jugador es seleccionado nacional.\n",
    "4. `Club_Position`: Posición del jugador. Este parámetro tiene valor en gran parte de los jugadores, existen casos como `Res` o `Sub` que no los deberá considerar en la respectiva sección.\n",
    "5. `Height`: Altura del jugador en centímetros. Si nota esta variable tiene un string, transforme a int.\n",
    "6. `Weight`: Peso del jugador en kilogramos. Si nota esta variable tiene un string, transforme a int.\n",
    "7. `Preffered_Foot`: Pie con que prefiere patear.\n",
    "8. `Age`: Edad\n",
    "9. `Work_Rate`: Frecuencia con que trabaja.\n",
    "\n",
    "Mientras que el resto de las características representan estadísticas personales (de acuerdo a la habilidad) para cada uno de los jugadores.\n"
   ]
  },
  {
   "cell_type": "markdown",
   "metadata": {
    "id": "2R3b7Qe501t5"
   },
   "source": [
    "## 1.1 Predicción de seleccionados nacionales. (2 puntos)\n",
    "\n",
    "<p align=\"center\">\n",
    "  <img src=\"https://drive.google.com/uc?export=view&id=1BnO4tyh3vM2P199Ec9s3JjngQ4qQ9seP\"\n",
    "\" width=\"300\">\n",
    "</p>\n"
   ]
  },
  {
   "cell_type": "markdown",
   "metadata": {
    "id": "PIe_Ha58pQRC"
   },
   "source": [
    "### 1.1.1 Generación de Labels para la Clasificación"
   ]
  },
  {
   "cell_type": "markdown",
   "metadata": {
    "id": "qqKb0I6wHktb"
   },
   "source": [
    "Tras el trágico despido de la mítica mascota de la población de Maipú, *Renacín*, decide adentrarse en la predicción futbolera. Para esto, utilizando los datos cargados en las celdas anteriores, le consulta si es posible predecir **si un jugador de football será seleccionado nacional en base a sus estadísticas**\n",
    "\n",
    "En este primer experimento de clasificación comience generando las labels para la clasificación. Para esto, trabaje sobre el atributo ```National_Position``` suponiendo que los valores nulos son jugadores no seleccionados para representar a su país. Hecho esto, ¿Como se distribuyen los datos para cada clase?, comente lo que observa.\n"
   ]
  },
  {
   "cell_type": "code",
   "execution_count": 62,
   "metadata": {
    "id": "uwKaIuho4lqn"
   },
   "outputs": [
    {
     "output_type": "execute_result",
     "data": {
      "text/plain": [
       "                Name Nationality National_Position Club_Position  Height  \\\n",
       "0  Cristiano Ronaldo    Portugal                 1            LW  185 cm   \n",
       "1       Lionel Messi   Argentina                 1            RW  170 cm   \n",
       "2             Neymar      Brazil                 1            LW  174 cm   \n",
       "3        Luis Suárez     Uruguay                 1            ST  182 cm   \n",
       "4       Manuel Neuer     Germany                 1            GK  193 cm   \n",
       "\n",
       "  Weight Preffered_Foot  Age        Work_Rate  Weak_foot  ...  Agility  \\\n",
       "0  80 kg          Right   32       High / Low          4  ...       90   \n",
       "1  72 kg           Left   29  Medium / Medium          4  ...       90   \n",
       "2  68 kg          Right   25    High / Medium          5  ...       96   \n",
       "3  85 kg          Right   30    High / Medium          4  ...       86   \n",
       "4  92 kg          Right   31  Medium / Medium          4  ...       52   \n",
       "\n",
       "   Jumping  Heading  Shot_Power  Finishing  Long_Shots  Curve  \\\n",
       "0       95       85          92         93          90     81   \n",
       "1       68       71          85         95          88     89   \n",
       "2       61       62          78         89          77     79   \n",
       "3       69       77          87         94          86     86   \n",
       "4       78       25          25         13          16     14   \n",
       "\n",
       "   Freekick_Accuracy  Penalties  Volleys  \n",
       "0                 76         85       88  \n",
       "1                 90         74       85  \n",
       "2                 84         81       83  \n",
       "3                 84         85       88  \n",
       "4                 11         47       11  \n",
       "\n",
       "[5 rows x 39 columns]"
      ],
      "text/html": "<div>\n<style scoped>\n    .dataframe tbody tr th:only-of-type {\n        vertical-align: middle;\n    }\n\n    .dataframe tbody tr th {\n        vertical-align: top;\n    }\n\n    .dataframe thead th {\n        text-align: right;\n    }\n</style>\n<table border=\"1\" class=\"dataframe\">\n  <thead>\n    <tr style=\"text-align: right;\">\n      <th></th>\n      <th>Name</th>\n      <th>Nationality</th>\n      <th>National_Position</th>\n      <th>Club_Position</th>\n      <th>Height</th>\n      <th>Weight</th>\n      <th>Preffered_Foot</th>\n      <th>Age</th>\n      <th>Work_Rate</th>\n      <th>Weak_foot</th>\n      <th>...</th>\n      <th>Agility</th>\n      <th>Jumping</th>\n      <th>Heading</th>\n      <th>Shot_Power</th>\n      <th>Finishing</th>\n      <th>Long_Shots</th>\n      <th>Curve</th>\n      <th>Freekick_Accuracy</th>\n      <th>Penalties</th>\n      <th>Volleys</th>\n    </tr>\n  </thead>\n  <tbody>\n    <tr>\n      <th>0</th>\n      <td>Cristiano Ronaldo</td>\n      <td>Portugal</td>\n      <td>1</td>\n      <td>LW</td>\n      <td>185 cm</td>\n      <td>80 kg</td>\n      <td>Right</td>\n      <td>32</td>\n      <td>High / Low</td>\n      <td>4</td>\n      <td>...</td>\n      <td>90</td>\n      <td>95</td>\n      <td>85</td>\n      <td>92</td>\n      <td>93</td>\n      <td>90</td>\n      <td>81</td>\n      <td>76</td>\n      <td>85</td>\n      <td>88</td>\n    </tr>\n    <tr>\n      <th>1</th>\n      <td>Lionel Messi</td>\n      <td>Argentina</td>\n      <td>1</td>\n      <td>RW</td>\n      <td>170 cm</td>\n      <td>72 kg</td>\n      <td>Left</td>\n      <td>29</td>\n      <td>Medium / Medium</td>\n      <td>4</td>\n      <td>...</td>\n      <td>90</td>\n      <td>68</td>\n      <td>71</td>\n      <td>85</td>\n      <td>95</td>\n      <td>88</td>\n      <td>89</td>\n      <td>90</td>\n      <td>74</td>\n      <td>85</td>\n    </tr>\n    <tr>\n      <th>2</th>\n      <td>Neymar</td>\n      <td>Brazil</td>\n      <td>1</td>\n      <td>LW</td>\n      <td>174 cm</td>\n      <td>68 kg</td>\n      <td>Right</td>\n      <td>25</td>\n      <td>High / Medium</td>\n      <td>5</td>\n      <td>...</td>\n      <td>96</td>\n      <td>61</td>\n      <td>62</td>\n      <td>78</td>\n      <td>89</td>\n      <td>77</td>\n      <td>79</td>\n      <td>84</td>\n      <td>81</td>\n      <td>83</td>\n    </tr>\n    <tr>\n      <th>3</th>\n      <td>Luis Suárez</td>\n      <td>Uruguay</td>\n      <td>1</td>\n      <td>ST</td>\n      <td>182 cm</td>\n      <td>85 kg</td>\n      <td>Right</td>\n      <td>30</td>\n      <td>High / Medium</td>\n      <td>4</td>\n      <td>...</td>\n      <td>86</td>\n      <td>69</td>\n      <td>77</td>\n      <td>87</td>\n      <td>94</td>\n      <td>86</td>\n      <td>86</td>\n      <td>84</td>\n      <td>85</td>\n      <td>88</td>\n    </tr>\n    <tr>\n      <th>4</th>\n      <td>Manuel Neuer</td>\n      <td>Germany</td>\n      <td>1</td>\n      <td>GK</td>\n      <td>193 cm</td>\n      <td>92 kg</td>\n      <td>Right</td>\n      <td>31</td>\n      <td>Medium / Medium</td>\n      <td>4</td>\n      <td>...</td>\n      <td>52</td>\n      <td>78</td>\n      <td>25</td>\n      <td>25</td>\n      <td>13</td>\n      <td>16</td>\n      <td>14</td>\n      <td>11</td>\n      <td>47</td>\n      <td>11</td>\n    </tr>\n  </tbody>\n</table>\n<p>5 rows × 39 columns</p>\n</div>"
     },
     "metadata": {},
     "execution_count": 62
    }
   ],
   "source": [
    "# DF de sólo atributos\n",
    "features = df_players.drop(columns=['National_Position'])\n",
    "\n",
    "# Columna target\n",
    "labels = df_players['National_Position']\n",
    "\n",
    "# Observaciones nulas (no seleccionados)\n",
    "lmask = labels.isnull()\n",
    "\n",
    "# Transformamos la columna target a one hot\n",
    "labels = labels.fillna(0) # 0 para no seleccinados\n",
    "labels[~lmask]=1          # 1 pára seleccionados\n",
    "\n",
    "# Actualizamos la información en la base de datos original\n",
    "df_players.National_Position = labels \n",
    "df_players.head()"
   ]
  },
  {
   "cell_type": "code",
   "execution_count": 44,
   "metadata": {
    "id": "OgHTWohiNFJj"
   },
   "outputs": [
    {
     "output_type": "stream",
     "name": "stdout",
     "text": [
      "Cantidad de datos etiquetados como seleccionados (1):\t 17\nCantidad de datos etiquetados como no-seleccionados (0): 3\n"
     ]
    }
   ],
   "source": [
    "print(f\"Cantidad de datos etiquetados como seleccionados (1):\\t {(df_players.National_Position == 1).sum()}\")\n",
    "print(f\"Cantidad de datos etiquetados como no-seleccionados (0): {(df_players.National_Position == 0).sum()}\")"
   ]
  },
  {
   "cell_type": "markdown",
   "metadata": {},
   "source": [
    "<b>¿Como se distribuyen los jugadores? </b>\n",
    "\n",
    "Respuesta: Son 17 jugadores para la clase seleccionados y 3 para la clase de no seleccionados, por lo que tenemos un desbalance bastante grande en las clases (15% versus 85%). Con tan pocos datos y tan alto desbalance, la tarea de clasificar podría no ser muy eficiente o entregar muy buenos resultados."
   ]
  },
  {
   "cell_type": "markdown",
   "metadata": {
    "id": "0F70XPRFpWH9"
   },
   "source": [
    "### 1.1.2 Camino a la Clasificación\n",
    "\n",
    "<p align=\"center\">\n",
    "  <img src=\"http://vignette3.wikia.nocookie.net/inciclopedia/images/c/cd/Patada_Medel_Messi.gif/revision/latest?cb=20150705215005\" width=\"300\">\n",
    "</p>\n",
    "\n"
   ]
  },
  {
   "cell_type": "markdown",
   "metadata": {
    "id": "Qb3td7-8a7MG"
   },
   "source": [
    "Si bien los atributos de interés se encuentran en su mayoría limpios, existen valores mal ingresados al `DataFrame`. Para esto: \n",
    "\n",
    "1. Transforme a enteros todos los valores numéricos de la tabla que considere pertinentes. Por ejemplo: El peso aparece como strings y además estos continene la unidad. En este caso, debería transformar estos valores a enteros. Puede usar directamente funciones sobre el DataFrame (como `apply`) o el submódulo de las Series `str`.\n",
    "2. Luego, aplique un ```ColumnTransformer``` para pre-procesar los datos del DataFrame de la siguiente forma:\n",
    "\n",
    "Aplicar ```OneHotEncoder()``` sobre los atributos:\n",
    "\n",
    "```python\n",
    "['Preffered_Foot', 'Work_Rate']\n",
    "```\n",
    "\n",
    "Aplicar ```MinMaxScaler()``` sobre los atributos:\n",
    "\n",
    "```python\n",
    "['Age']\n",
    "```\n",
    "\n",
    "Aplicar ```StandardScaler()``` sobre los atributos:\n",
    "\n",
    "```python\n",
    "['Height', 'Weak_foot', 'Skill_Moves', 'Ball_Control', 'Dribbling', 'Marking', 'Sliding_Tackle', 'Standing_Tackle', 'Aggression', 'Reactions','Interceptions', 'Vision', 'Composure', 'Crossing', 'Short_Pass', 'Long_Pass', 'Acceleration', 'Speed', 'Stamina', 'Strength', 'Balance', 'Agility', 'Jumping', 'Heading', 'Shot_Power', 'Finishing', 'Long_Shots', 'Curve', 'Freekick_Accuracy', 'Penalties', 'Volleys']\n",
    "```\n",
    "\n",
    "**Nota 2**: Puede copiar/pegar directamente las columnas en el `ColumnTransformer`.\n",
    "\n",
    "\n",
    "Hecho lo anterior, defina al menos 3 pipelines para la clasificación donde anexe las transformaciones señaladas variando entre cada pipeline solo los clasificadores (puede escoger cualquiera de los clasificadores vistos en clases).\n",
    "\n",
    "**To-Do:**\n",
    "\n",
    "- [X] Modificar valores mal ingresados.\n",
    "- [ ] Aplicar ```ColumnTransformer``` sobre los datos a través de un pipeline.\n",
    "- [ ] Crear 3 pipelines con diferentes clasificadores.\n",
    "- [ ] No entrenar los datos aún.\n",
    "\n",
    "**Nota:** No es necesario entrenar los clasificadores aún."
   ]
  },
  {
   "cell_type": "code",
   "execution_count": 78,
   "metadata": {},
   "outputs": [
    {
     "output_type": "execute_result",
     "data": {
      "text/plain": [
       "Pipeline(steps=[('preprocessing',\n",
       "                 ColumnTransformer(transformers=[('OneHotEncoder',\n",
       "                                                  OneHotEncoder(),\n",
       "                                                  ['Preffered_Foot',\n",
       "                                                   'Work_Rate']),\n",
       "                                                 ('MinMax', MinMaxScaler(),\n",
       "                                                  ['Age']),\n",
       "                                                 ('StandardScaler',\n",
       "                                                  StandardScaler(),\n",
       "                                                  ['Height', 'Weak_foot',\n",
       "                                                   'Skill_Moves',\n",
       "                                                   'Ball_Control', 'Dribbling',\n",
       "                                                   'Marking', 'Sliding_Tackle',\n",
       "                                                   'Standing_Tackle',\n",
       "                                                   'Aggression', 'Reactions',\n",
       "                                                   'Interceptions', 'Vision',\n",
       "                                                   'Composure', 'Crossing',\n",
       "                                                   'Short_Pass', 'Long_Pass',\n",
       "                                                   'Acceleration', 'Speed',\n",
       "                                                   'Stamina', 'Strength',\n",
       "                                                   'Balance', 'Agility',\n",
       "                                                   'Jumping', 'Heading',\n",
       "                                                   'Shot_Power', 'Finishing',\n",
       "                                                   'Long_Shots', 'Curve',\n",
       "                                                   'Freekick_Accuracy',\n",
       "                                                   'Penalties', ...])])),\n",
       "                ('K-vecinos', KNeighborsClassifier(n_neighbors=3))])"
      ]
     },
     "metadata": {},
     "execution_count": 78
    }
   ],
   "source": [
    "# 1. Transforme a enteros todos los valores numéricos de la tabla que considere pertinentes\n",
    "to_int = lambda s: int(s.split()[0] if type(s)==str else s) # func aux\n",
    "df_players['Height']=df_players['Height'].apply(to_int)\n",
    "df_players['Weight']=df_players['Weight'].apply(to_int)\n",
    "\n",
    "# 2. Aplique un ColumnTransformer para pre-procesar los datos del DataFrame de la siguiente forma:\n",
    "\n",
    "# Features\n",
    "onehot_features = ['Preffered_Foot', 'Work_Rate']\n",
    "minmax_features = ['Age']\n",
    "stand_features  = ['Height', 'Weak_foot', 'Skill_Moves', 'Ball_Control', 'Dribbling', 'Marking', 'Sliding_Tackle', 'Standing_Tackle', 'Aggression', 'Reactions','Interceptions', 'Vision', 'Composure', 'Crossing', 'Short_Pass', 'Long_Pass', 'Acceleration', 'Speed', 'Stamina', 'Strength', 'Balance', 'Agility', 'Jumping', 'Heading', 'Shot_Power', 'Finishing', 'Long_Shots', 'Curve', 'Freekick_Accuracy', 'Penalties', 'Volleys']\n",
    "\n",
    "# Transformer\n",
    "preprocessing_transformer = ColumnTransformer(\n",
    "    transformers=[\n",
    "        ('OneHotEncoder', OneHotEncoder(), onehot_features),\n",
    "        ('MinMax', MinMaxScaler(), minmax_features), \n",
    "        ('StandardScaler', StandardScaler(), stand_features)\n",
    "        ])\n",
    "\n",
    "# 3. Defina al menos 3 pipelines para la clasificación donde anexe las transformaciones señaladas variando entre cada pipeline solo los clasificadores (puede escoger cualquiera de los clasificadores vistos en clases).\n",
    "\n",
    "pipe1 = Pipeline([('preprocessing',preprocessing_transformer),('Arbol', DecisionTreeClassifier(criterion=\"entropy\"))])\n",
    "\n",
    "pipe2 = Pipeline([('preprocessing',preprocessing_transformer),('K-vecinos', KNeighborsClassifier(n_neighbors=3))])##Buscar otro no funca\n",
    "\n",
    "pipe2"
   ]
  },
  {
   "cell_type": "code",
   "execution_count": 60,
   "metadata": {
    "id": "cS-ZiW6YUgXS"
   },
   "outputs": [
    {
     "output_type": "error",
     "ename": "AttributeError",
     "evalue": "'int' object has no attribute 'split'",
     "traceback": [
      "\u001b[1;31m---------------------------------------------------------------------------\u001b[0m",
      "\u001b[1;31mAttributeError\u001b[0m                            Traceback (most recent call last)",
      "\u001b[1;32m<ipython-input-60-ecabe17feb56>\u001b[0m in \u001b[0;36m<module>\u001b[1;34m\u001b[0m\n\u001b[0;32m     15\u001b[0m \u001b[1;33m\u001b[0m\u001b[0m\n\u001b[0;32m     16\u001b[0m \u001b[1;31m#                                               'Long_Shots', 'Curve', 'Freekick_Accuracy', 'Penalties', 'Volleys']\u001b[0m\u001b[1;33m\u001b[0m\u001b[1;33m\u001b[0m\u001b[1;33m\u001b[0m\u001b[0m\n\u001b[1;32m---> 17\u001b[1;33m \u001b[0mdf_player\u001b[0m\u001b[1;33m[\u001b[0m\u001b[1;34m'Height'\u001b[0m\u001b[1;33m]\u001b[0m\u001b[1;33m=\u001b[0m\u001b[0mdf_player\u001b[0m\u001b[1;33m[\u001b[0m\u001b[1;34m'Height'\u001b[0m\u001b[1;33m]\u001b[0m\u001b[1;33m.\u001b[0m\u001b[0mapply\u001b[0m\u001b[1;33m(\u001b[0m\u001b[0mto_int\u001b[0m\u001b[1;33m)\u001b[0m\u001b[1;33m\u001b[0m\u001b[1;33m\u001b[0m\u001b[0m\n\u001b[0m\u001b[0;32m     18\u001b[0m \u001b[0mdf_player\u001b[0m\u001b[1;33m[\u001b[0m\u001b[1;34m'Weight'\u001b[0m\u001b[1;33m]\u001b[0m\u001b[1;33m=\u001b[0m\u001b[0mdf_player\u001b[0m\u001b[1;33m[\u001b[0m\u001b[1;34m'Weight'\u001b[0m\u001b[1;33m]\u001b[0m\u001b[1;33m.\u001b[0m\u001b[0mapply\u001b[0m\u001b[1;33m(\u001b[0m\u001b[0mto_int\u001b[0m\u001b[1;33m)\u001b[0m\u001b[1;33m\u001b[0m\u001b[1;33m\u001b[0m\u001b[0m\n\u001b[0;32m     19\u001b[0m \u001b[1;31m# le=preprocessing.LabelEncoder()\u001b[0m\u001b[1;33m\u001b[0m\u001b[1;33m\u001b[0m\u001b[1;33m\u001b[0m\u001b[0m\n",
      "\u001b[1;32m~\\AppData\\Local\\Programs\\Python\\Python39\\lib\\site-packages\\pandas\\core\\series.py\u001b[0m in \u001b[0;36mapply\u001b[1;34m(self, func, convert_dtype, args, **kwds)\u001b[0m\n\u001b[0;32m   4136\u001b[0m             \u001b[1;32melse\u001b[0m\u001b[1;33m:\u001b[0m\u001b[1;33m\u001b[0m\u001b[1;33m\u001b[0m\u001b[0m\n\u001b[0;32m   4137\u001b[0m                 \u001b[0mvalues\u001b[0m \u001b[1;33m=\u001b[0m \u001b[0mself\u001b[0m\u001b[1;33m.\u001b[0m\u001b[0mastype\u001b[0m\u001b[1;33m(\u001b[0m\u001b[0mobject\u001b[0m\u001b[1;33m)\u001b[0m\u001b[1;33m.\u001b[0m\u001b[0m_values\u001b[0m\u001b[1;33m\u001b[0m\u001b[1;33m\u001b[0m\u001b[0m\n\u001b[1;32m-> 4138\u001b[1;33m                 \u001b[0mmapped\u001b[0m \u001b[1;33m=\u001b[0m \u001b[0mlib\u001b[0m\u001b[1;33m.\u001b[0m\u001b[0mmap_infer\u001b[0m\u001b[1;33m(\u001b[0m\u001b[0mvalues\u001b[0m\u001b[1;33m,\u001b[0m \u001b[0mf\u001b[0m\u001b[1;33m,\u001b[0m \u001b[0mconvert\u001b[0m\u001b[1;33m=\u001b[0m\u001b[0mconvert_dtype\u001b[0m\u001b[1;33m)\u001b[0m\u001b[1;33m\u001b[0m\u001b[1;33m\u001b[0m\u001b[0m\n\u001b[0m\u001b[0;32m   4139\u001b[0m \u001b[1;33m\u001b[0m\u001b[0m\n\u001b[0;32m   4140\u001b[0m         \u001b[1;32mif\u001b[0m \u001b[0mlen\u001b[0m\u001b[1;33m(\u001b[0m\u001b[0mmapped\u001b[0m\u001b[1;33m)\u001b[0m \u001b[1;32mand\u001b[0m \u001b[0misinstance\u001b[0m\u001b[1;33m(\u001b[0m\u001b[0mmapped\u001b[0m\u001b[1;33m[\u001b[0m\u001b[1;36m0\u001b[0m\u001b[1;33m]\u001b[0m\u001b[1;33m,\u001b[0m \u001b[0mSeries\u001b[0m\u001b[1;33m)\u001b[0m\u001b[1;33m:\u001b[0m\u001b[1;33m\u001b[0m\u001b[1;33m\u001b[0m\u001b[0m\n",
      "\u001b[1;32mpandas\\_libs\\lib.pyx\u001b[0m in \u001b[0;36mpandas._libs.lib.map_infer\u001b[1;34m()\u001b[0m\n",
      "\u001b[1;32m<ipython-input-60-ecabe17feb56>\u001b[0m in \u001b[0;36m<lambda>\u001b[1;34m(s)\u001b[0m\n\u001b[0;32m      3\u001b[0m \u001b[1;32mfrom\u001b[0m \u001b[0msklearn\u001b[0m \u001b[1;32mimport\u001b[0m \u001b[0msvm\u001b[0m\u001b[1;33m\u001b[0m\u001b[1;33m\u001b[0m\u001b[0m\n\u001b[0;32m      4\u001b[0m \u001b[1;33m\u001b[0m\u001b[0m\n\u001b[1;32m----> 5\u001b[1;33m \u001b[0mto_int\u001b[0m \u001b[1;33m=\u001b[0m \u001b[1;32mlambda\u001b[0m \u001b[0ms\u001b[0m\u001b[1;33m:\u001b[0m \u001b[0mint\u001b[0m\u001b[1;33m(\u001b[0m\u001b[0ms\u001b[0m\u001b[1;33m.\u001b[0m\u001b[0msplit\u001b[0m\u001b[1;33m(\u001b[0m\u001b[1;33m)\u001b[0m\u001b[1;33m[\u001b[0m\u001b[1;36m0\u001b[0m\u001b[1;33m]\u001b[0m\u001b[1;33m)\u001b[0m\u001b[1;33m\u001b[0m\u001b[1;33m\u001b[0m\u001b[0m\n\u001b[0m\u001b[0;32m      6\u001b[0m \u001b[1;31m# def To_int(a):\u001b[0m\u001b[1;33m\u001b[0m\u001b[1;33m\u001b[0m\u001b[1;33m\u001b[0m\u001b[0m\n\u001b[0;32m      7\u001b[0m \u001b[1;31m#     b=a.split()\u001b[0m\u001b[1;33m\u001b[0m\u001b[1;33m\u001b[0m\u001b[1;33m\u001b[0m\u001b[0m\n",
      "\u001b[1;31mAttributeError\u001b[0m: 'int' object has no attribute 'split'"
     ]
    }
   ],
   "source": [
    "from sklearn.neighbors import KNeighborsClassifier\n",
    "from sklearn import svm\n",
    "\n",
    "to_int = lambda s: int(s.split()[0])\n",
    "# def To_int(a):\n",
    "#     b=a.split()\n",
    "#     b=int(b[0])\n",
    "#     return b\n",
    "# a1=['Preffered_Foot', 'Work_Rate']\n",
    "# a2=['Age']\n",
    "# a3=['Height', 'Weak_foot', 'Skill_Moves', 'Ball_Control', 'Dribbling',\n",
    "#                                               'Marking', 'Sliding_Tackle', 'Standing_Tackle', 'Aggression', 'Reactions','Interceptions', 'Vision', 'Composure', 'Crossing', 'Short_Pass', 'Long_Pass',\n",
    "#                                               'Acceleration', 'Speed', 'Stamina', 'Strength', 'Balance', 'Agility', 'Jumping', 'Heading', 'Shot_Power', 'Finishing',\n",
    "\n",
    "#                                               'Long_Shots', 'Curve', 'Freekick_Accuracy', 'Penalties', 'Volleys']\n",
    "# df_player['Height']=df_player['Height'].apply(to_int)\n",
    "# df_player['Weight']=df_player['Weight'].apply(to_int)\n",
    "le=preprocessing.LabelEncoder()\n",
    "features.Preffered_Foot=le.fit_transform(features.Preffered_Foot)##1:derecho 0:izquierdo, repetir lo mismo si encuentran otra \n",
    "features.Work_Rate=le.fit_transform(features.Work_Rate)##Es importante pero no entiendo que significa\n",
    "# display(features.head(20))\n",
    "# ##Columns_transformer:\n",
    "# preprocessing_transformer = ColumnTransformer(\n",
    "#     transformers=[\n",
    "#         ('OneHotEncoder', OneHotEncoder(),  a1),\n",
    "#         ('MinMax', MinMaxScaler(),a2), \n",
    "#         ('StandardScaler', StandardScaler(), a3)])\n",
    "\n",
    "# pipaso1=Pipeline([('preprocessing',preprocessing_transformer),('Arbol',DecisionTreeClassifier(criterion=\"entropy\"))])\n",
    "\n",
    "# pipaso2=Pipeline([('preprocessing',preprocessing_transformer),('K-vecinos',KNeighborsClassifier(n_neighbors=3))])##Buscar otro no funca\n",
    "\n",
    "# pipaso3=Pipeline([('preprocessing',preprocessing_transformer),('Vectores',svm.SVC())])###ver funcion de desicion/que significa\n",
    "# print(features.shape)\n",
    "df_players"
   ]
  },
  {
   "cell_type": "code",
   "execution_count": 39,
   "metadata": {},
   "outputs": [
    {
     "name": "stdout",
     "output_type": "stream",
     "text": [
      "(17588, 38)\n"
     ]
    }
   ],
   "source": [
    "print(features.shape)"
   ]
  },
  {
   "cell_type": "markdown",
   "metadata": {
    "id": "dnC5arxmR93Y"
   },
   "source": [
    "### 1.1.3 Métricas de evaluación + Opcional\n",
    "\n",
    "<p align=\"center\">\n",
    "  <img src=\"https://media4.giphy.com/media/3orif8r5vpbAdQU3iU/200w.gif?cid=82a1493btc1h43n1h4c59p13kjv6adugso4lo4292zbgt66b&rid=200w.gif&ct=g\" width=\"300\">\n",
    "</p>"
   ]
  },
  {
   "cell_type": "markdown",
   "metadata": {
    "id": "gecJEKsrXMjg"
   },
   "source": [
    "Interesado por saber que tan bien funciona su clasificador, Renacin le solicita que construya **a mano** las siguientes métricas de evaluación para el caso de **clasificación binaria**:\n",
    "\n",
    "- Accuracy (Exactitud):\n",
    "\n",
    "$$Accuracy = \\dfrac{número \\, de \\, predicciones \\, correctas}{número \\, de \\,predicciones \\, totales}$$\n",
    "\n",
    "\n",
    "- Precision: \n",
    "\n",
    "$$Precision = \\dfrac{Verdaderos \\, positivos}{Verdaderos \\, positivos + Falsos \\, positivos}$$\n",
    "\n",
    "- Recall:\n",
    "\n",
    "$$Recall = \\dfrac{Verdaderos \\, positivos}{Verdaderos \\, positivos + Falsos \\,negativos}$$\n",
    "\n",
    "<p align=\"center\">\n",
    "  <img src=\"https://www.researchgate.net/publication/336402347/figure/fig3/AS:812472659349505@1570719985505/Calculation-of-Precision-Recall-and-Accuracy-in-the-confusion-matrix.ppm\" width=\"350\">\n",
    "</p>\n",
    "\n",
    "**To-Do:**\n",
    "\n",
    "- [ ] Crear funciones para las métricas para clasificación binaria: Accuracy, Precision y Recall. \n",
    "- [ ] Compruebe el correcto funcionamiento de sus métricas a través de los test.\n",
    "\n",
    "**Hint:** Utilice confusion_matrix para obtener TP, FP, FN y TN.\n",
    "\n"
   ]
  },
  {
   "cell_type": "code",
   "execution_count": 8,
   "metadata": {
    "id": "kaR9cTsecVZt"
   },
   "outputs": [],
   "source": [
    "from sklearn.metrics import confusion_matrix\n",
    "\n",
    "def accuracy(y_true, y_pred):\n",
    "        cm=confusion_matrix(y_true, y_pred,labels=[1,0])\n",
    "        ac=(cm[0][0]+cm[1][1])/(cm[0][0]+cm[1][1]+cm[0][1]+cm[1][0])\n",
    "        return ac\n",
    "        \n",
    "\n",
    "def presicion(y_true, y_pred):\n",
    "    cm=confusion_matrix(y_true, y_pred,labels=[1,0])\n",
    "    p=cm[0][0]/(cm[0][0]+cm[0][1])\n",
    "    return p\n",
    "  \n",
    "\n",
    "def recall(y_true, y_pred):\n",
    "    cm=confusion_matrix(y_true, y_pred,labels=[1,0])\n",
    "    rc=cm[0][0]/(cm[0][0]+cm[1][0])\n",
    "    return rc\n",
    " "
   ]
  },
  {
   "cell_type": "code",
   "execution_count": 9,
   "metadata": {
    "id": "9HfidIAmcy6r"
   },
   "outputs": [],
   "source": [
    "from sklearn.metrics import recall_score\n",
    "from sklearn.metrics import precision_score\n",
    "from sklearn.metrics import classification_report\n",
    "y_true = [0, 1, 0, 0, 1, 0]\n",
    "y_pred = [0, 0, 1, 0, 0, 1]\n",
    "# Tests de metricas\n",
    "assert accuracy_score(y_true, y_pred) == accuracy(y_true, y_pred)\n",
    "assert recall_score(y_true, y_pred) == recall(y_true, y_pred)\n",
    "assert precision_score(y_true, y_pred) == presicion(y_true, y_pred)"
   ]
  },
  {
   "cell_type": "markdown",
   "metadata": {
    "id": "MpKq6oO3vCNL"
   },
   "source": [
    "### 1.1.4 Entrenemos los pipelines\n",
    "\n",
    "<p align=\"center\">\n",
    "  <img src=\"https://i.gifer.com/7Cc8.gif\" width=\"300\">\n",
    "</p>\n"
   ]
  },
  {
   "cell_type": "markdown",
   "metadata": {
    "id": "wE_1aZaIvOeN"
   },
   "source": [
    "Entrene en base al pipeline generado en los pasos anteriores, procure separar los datos de entrenamiento en un conjunto de entrenamiento y de prueba (la proporción queda a su juicio). Una vez entrenado, muestre los resultados para cada uno de los clasificadores y comente lo que observa de los resultados obtenidos usando las métricas creadas anteriormente, ¿podrían mejorarse los resultados?\n",
    "\n",
    "**To-Do**:\n",
    "\n",
    "- [ ] Separar el conjunto de datos en entrenamiento y de prueba.\n",
    "- [ ] Entrenar el pipeline.\n",
    "- [ ] Utilizar las métricas codificadas anteriormente y analizar los resultados.\n"
   ]
  },
  {
   "cell_type": "code",
   "execution_count": 11,
   "metadata": {
    "id": "A6Sr8w6vUrGH"
   },
   "outputs": [
    {
     "name": "stdout",
     "output_type": "stream",
     "text": [
      "Accuracy:0.9000861326442722\n",
      "Recall:0.206266318537859\n",
      "Presicion:0.22253521126760564\n",
      "Accuracy:0.9331610680447889\n",
      "Recall:0.35135135135135137\n",
      "Presicion:0.10985915492957747\n",
      "Accuracy:0.9388458225667528\n",
      "Recall:nan\n",
      "Presicion:0.0\n"
     ]
    },
    {
     "name": "stderr",
     "output_type": "stream",
     "text": [
      "<ipython-input-8-fa2bd39f2807>:17: RuntimeWarning: invalid value encountered in longlong_scalars\n",
      "  rc=cm[0][0]/(cm[0][0]+cm[1][0])\n"
     ]
    }
   ],
   "source": [
    "from sklearn.model_selection import train_test_split\n",
    "bongazo=[pipaso1,pipaso2,pipaso3]\n",
    "for i in range(len(bongazo)):\n",
    "    features_final=bongazo[i][0].fit_transform(features).copy()\n",
    "    features_final= pd.DataFrame(features_final)\n",
    "    ##Separar data\n",
    "    X_train, X_test, y_train, y_test = train_test_split(\n",
    "        features_final, labels, test_size=0.33, shuffle=True, stratify=labels )\n",
    "    y_train=y_train.astype('int')##No puede ser un objeto\n",
    "    y_test=y_test.astype('int')\n",
    "    ##Entrenar\n",
    "    Tr=bongazo[i][1].fit(X_train, y_train)\n",
    "    y_pred1 = Tr.predict(X_test)\n",
    "    print(f\"Accuracy:{accuracy(y_test, y_pred1)}\")##Poner nombres apropiados para que se vea lindo\n",
    "    print(f\"Recall:{recall(y_test, y_pred1)}\")\n",
    "    print(f\"Presicion:{presicion(y_test, y_pred1)}\")"
   ]
  },
  {
   "cell_type": "markdown",
   "metadata": {
    "id": "QgSeo0aIx9ow"
   },
   "source": [
    "**Respuesta**:\n",
    "Joder\n",
    "\n",
    "```\n",
    "Comente de resultados observados y si es posible mejorar los resultados.\n",
    "```"
   ]
  },
  {
   "cell_type": "markdown",
   "metadata": {
    "id": "ix97Ho4uOARH"
   },
   "source": [
    "## 1.2 Predicción de posiciones de jugadores. (2 puntos)\n",
    "\n",
    "<p align=\"center\">\n",
    "  <img src=\"https://pbs.twimg.com/media/E1rfA1aWEAYU6Ny.jpg\" width=\"300\">\n",
    "</p>"
   ]
  },
  {
   "cell_type": "markdown",
   "metadata": {
    "id": "oHAwZfV8hMsk"
   },
   "source": [
    "### 1.2.1 Creación de nuevas labels.\n",
    "\n"
   ]
  },
  {
   "cell_type": "markdown",
   "metadata": {
    "id": "zcg_hg5QaqJ6"
   },
   "source": [
    "No conforme con el trabajo de la sección 1.1, Renacin les *ordena* que construyan un clasificador nuevo, pero para predecir la posición de los jugadores del dataset. Para lograr esto, les pide que etiqueten de la siguiente manera los valores que aparecen en el atributo ```Club_Position```, con esto les recalca que no deben utilizar los valores ```Sub``` y ```Res``` de este atributo, pidiendo que agrupen los valores en los siguientes grupos:\n",
    "\n",
    "```python\n",
    "Ataque=['ST', 'CAM','RS','LF','LAM','LS','RF','RAM','CF']\n",
    "MedioCampistas=['RCM','LW', 'RW', 'LCM','LM', 'RM', 'CM']\n",
    "Defensas=['LCB','RB','RCB', 'LDM','LB','CDM','RDM','CB','RWB','LWB']\n",
    "Arquero =['GK']\n",
    "```\n",
    "\n",
    "Con lo señalado, Renacin les señala que no deberian utilizar el label utilizado en la sección 1.1, ya que el problema de clasificación ahora es de posiciones.\n",
    "\n",
    "**To-Do**:\n",
    "\n",
    "- [ ] Aplique las etiquetas de ```Ataque```, ```MedioCampista```, ```Defensa``` y ```Arquero``` en los valores señalados en esta sección.\n",
    "- [ ] Muestre como se distribuyen los datos etiquetados."
   ]
  },
  {
   "cell_type": "code",
   "execution_count": 12,
   "metadata": {},
   "outputs": [
    {
     "data": {
      "text/html": [
       "<div>\n",
       "<style scoped>\n",
       "    .dataframe tbody tr th:only-of-type {\n",
       "        vertical-align: middle;\n",
       "    }\n",
       "\n",
       "    .dataframe tbody tr th {\n",
       "        vertical-align: top;\n",
       "    }\n",
       "\n",
       "    .dataframe thead th {\n",
       "        text-align: right;\n",
       "    }\n",
       "</style>\n",
       "<table border=\"1\" class=\"dataframe\">\n",
       "  <thead>\n",
       "    <tr style=\"text-align: right;\">\n",
       "      <th></th>\n",
       "      <th>Name</th>\n",
       "      <th>Nationality</th>\n",
       "      <th>Club_Position</th>\n",
       "      <th>Height</th>\n",
       "      <th>Weight</th>\n",
       "      <th>Preffered_Foot</th>\n",
       "      <th>Age</th>\n",
       "      <th>Work_Rate</th>\n",
       "      <th>Weak_foot</th>\n",
       "      <th>Skill_Moves</th>\n",
       "      <th>...</th>\n",
       "      <th>Agility</th>\n",
       "      <th>Jumping</th>\n",
       "      <th>Heading</th>\n",
       "      <th>Shot_Power</th>\n",
       "      <th>Finishing</th>\n",
       "      <th>Long_Shots</th>\n",
       "      <th>Curve</th>\n",
       "      <th>Freekick_Accuracy</th>\n",
       "      <th>Penalties</th>\n",
       "      <th>Volleys</th>\n",
       "    </tr>\n",
       "  </thead>\n",
       "  <tbody>\n",
       "    <tr>\n",
       "      <th>0</th>\n",
       "      <td>Cristiano Ronaldo</td>\n",
       "      <td>Portugal</td>\n",
       "      <td>1</td>\n",
       "      <td>185</td>\n",
       "      <td>80</td>\n",
       "      <td>1</td>\n",
       "      <td>32</td>\n",
       "      <td>1</td>\n",
       "      <td>4</td>\n",
       "      <td>5</td>\n",
       "      <td>...</td>\n",
       "      <td>90</td>\n",
       "      <td>95</td>\n",
       "      <td>85</td>\n",
       "      <td>92</td>\n",
       "      <td>93</td>\n",
       "      <td>90</td>\n",
       "      <td>81</td>\n",
       "      <td>76</td>\n",
       "      <td>85</td>\n",
       "      <td>88</td>\n",
       "    </tr>\n",
       "    <tr>\n",
       "      <th>1</th>\n",
       "      <td>Lionel Messi</td>\n",
       "      <td>Argentina</td>\n",
       "      <td>1</td>\n",
       "      <td>170</td>\n",
       "      <td>72</td>\n",
       "      <td>0</td>\n",
       "      <td>29</td>\n",
       "      <td>8</td>\n",
       "      <td>4</td>\n",
       "      <td>4</td>\n",
       "      <td>...</td>\n",
       "      <td>90</td>\n",
       "      <td>68</td>\n",
       "      <td>71</td>\n",
       "      <td>85</td>\n",
       "      <td>95</td>\n",
       "      <td>88</td>\n",
       "      <td>89</td>\n",
       "      <td>90</td>\n",
       "      <td>74</td>\n",
       "      <td>85</td>\n",
       "    </tr>\n",
       "    <tr>\n",
       "      <th>2</th>\n",
       "      <td>Neymar</td>\n",
       "      <td>Brazil</td>\n",
       "      <td>1</td>\n",
       "      <td>174</td>\n",
       "      <td>68</td>\n",
       "      <td>1</td>\n",
       "      <td>25</td>\n",
       "      <td>2</td>\n",
       "      <td>5</td>\n",
       "      <td>5</td>\n",
       "      <td>...</td>\n",
       "      <td>96</td>\n",
       "      <td>61</td>\n",
       "      <td>62</td>\n",
       "      <td>78</td>\n",
       "      <td>89</td>\n",
       "      <td>77</td>\n",
       "      <td>79</td>\n",
       "      <td>84</td>\n",
       "      <td>81</td>\n",
       "      <td>83</td>\n",
       "    </tr>\n",
       "    <tr>\n",
       "      <th>3</th>\n",
       "      <td>Luis Suárez</td>\n",
       "      <td>Uruguay</td>\n",
       "      <td>0</td>\n",
       "      <td>182</td>\n",
       "      <td>85</td>\n",
       "      <td>1</td>\n",
       "      <td>30</td>\n",
       "      <td>2</td>\n",
       "      <td>4</td>\n",
       "      <td>4</td>\n",
       "      <td>...</td>\n",
       "      <td>86</td>\n",
       "      <td>69</td>\n",
       "      <td>77</td>\n",
       "      <td>87</td>\n",
       "      <td>94</td>\n",
       "      <td>86</td>\n",
       "      <td>86</td>\n",
       "      <td>84</td>\n",
       "      <td>85</td>\n",
       "      <td>88</td>\n",
       "    </tr>\n",
       "    <tr>\n",
       "      <th>4</th>\n",
       "      <td>Manuel Neuer</td>\n",
       "      <td>Germany</td>\n",
       "      <td>3</td>\n",
       "      <td>193</td>\n",
       "      <td>92</td>\n",
       "      <td>1</td>\n",
       "      <td>31</td>\n",
       "      <td>8</td>\n",
       "      <td>4</td>\n",
       "      <td>1</td>\n",
       "      <td>...</td>\n",
       "      <td>52</td>\n",
       "      <td>78</td>\n",
       "      <td>25</td>\n",
       "      <td>25</td>\n",
       "      <td>13</td>\n",
       "      <td>16</td>\n",
       "      <td>14</td>\n",
       "      <td>11</td>\n",
       "      <td>47</td>\n",
       "      <td>11</td>\n",
       "    </tr>\n",
       "    <tr>\n",
       "      <th>5</th>\n",
       "      <td>De Gea</td>\n",
       "      <td>Spain</td>\n",
       "      <td>3</td>\n",
       "      <td>193</td>\n",
       "      <td>82</td>\n",
       "      <td>1</td>\n",
       "      <td>26</td>\n",
       "      <td>8</td>\n",
       "      <td>3</td>\n",
       "      <td>1</td>\n",
       "      <td>...</td>\n",
       "      <td>57</td>\n",
       "      <td>67</td>\n",
       "      <td>21</td>\n",
       "      <td>31</td>\n",
       "      <td>13</td>\n",
       "      <td>12</td>\n",
       "      <td>21</td>\n",
       "      <td>19</td>\n",
       "      <td>40</td>\n",
       "      <td>13</td>\n",
       "    </tr>\n",
       "    <tr>\n",
       "      <th>6</th>\n",
       "      <td>Robert Lewandowski</td>\n",
       "      <td>Poland</td>\n",
       "      <td>0</td>\n",
       "      <td>185</td>\n",
       "      <td>79</td>\n",
       "      <td>1</td>\n",
       "      <td>28</td>\n",
       "      <td>2</td>\n",
       "      <td>4</td>\n",
       "      <td>3</td>\n",
       "      <td>...</td>\n",
       "      <td>78</td>\n",
       "      <td>84</td>\n",
       "      <td>85</td>\n",
       "      <td>86</td>\n",
       "      <td>91</td>\n",
       "      <td>82</td>\n",
       "      <td>77</td>\n",
       "      <td>76</td>\n",
       "      <td>81</td>\n",
       "      <td>86</td>\n",
       "    </tr>\n",
       "    <tr>\n",
       "      <th>7</th>\n",
       "      <td>Gareth Bale</td>\n",
       "      <td>Wales</td>\n",
       "      <td>1</td>\n",
       "      <td>183</td>\n",
       "      <td>74</td>\n",
       "      <td>0</td>\n",
       "      <td>27</td>\n",
       "      <td>2</td>\n",
       "      <td>3</td>\n",
       "      <td>4</td>\n",
       "      <td>...</td>\n",
       "      <td>77</td>\n",
       "      <td>85</td>\n",
       "      <td>86</td>\n",
       "      <td>91</td>\n",
       "      <td>87</td>\n",
       "      <td>90</td>\n",
       "      <td>86</td>\n",
       "      <td>85</td>\n",
       "      <td>76</td>\n",
       "      <td>76</td>\n",
       "    </tr>\n",
       "    <tr>\n",
       "      <th>8</th>\n",
       "      <td>Zlatan Ibrahimović</td>\n",
       "      <td>Sweden</td>\n",
       "      <td>0</td>\n",
       "      <td>195</td>\n",
       "      <td>95</td>\n",
       "      <td>1</td>\n",
       "      <td>35</td>\n",
       "      <td>7</td>\n",
       "      <td>4</td>\n",
       "      <td>4</td>\n",
       "      <td>...</td>\n",
       "      <td>86</td>\n",
       "      <td>72</td>\n",
       "      <td>80</td>\n",
       "      <td>93</td>\n",
       "      <td>90</td>\n",
       "      <td>88</td>\n",
       "      <td>82</td>\n",
       "      <td>82</td>\n",
       "      <td>91</td>\n",
       "      <td>93</td>\n",
       "    </tr>\n",
       "    <tr>\n",
       "      <th>9</th>\n",
       "      <td>Thibaut Courtois</td>\n",
       "      <td>Belgium</td>\n",
       "      <td>3</td>\n",
       "      <td>199</td>\n",
       "      <td>91</td>\n",
       "      <td>0</td>\n",
       "      <td>24</td>\n",
       "      <td>8</td>\n",
       "      <td>3</td>\n",
       "      <td>1</td>\n",
       "      <td>...</td>\n",
       "      <td>61</td>\n",
       "      <td>68</td>\n",
       "      <td>13</td>\n",
       "      <td>36</td>\n",
       "      <td>14</td>\n",
       "      <td>17</td>\n",
       "      <td>19</td>\n",
       "      <td>11</td>\n",
       "      <td>27</td>\n",
       "      <td>12</td>\n",
       "    </tr>\n",
       "    <tr>\n",
       "      <th>10</th>\n",
       "      <td>Jérôme Boateng</td>\n",
       "      <td>Germany</td>\n",
       "      <td>Sub</td>\n",
       "      <td>192</td>\n",
       "      <td>90</td>\n",
       "      <td>1</td>\n",
       "      <td>28</td>\n",
       "      <td>8</td>\n",
       "      <td>4</td>\n",
       "      <td>2</td>\n",
       "      <td>...</td>\n",
       "      <td>58</td>\n",
       "      <td>75</td>\n",
       "      <td>86</td>\n",
       "      <td>79</td>\n",
       "      <td>34</td>\n",
       "      <td>58</td>\n",
       "      <td>56</td>\n",
       "      <td>31</td>\n",
       "      <td>46</td>\n",
       "      <td>53</td>\n",
       "    </tr>\n",
       "    <tr>\n",
       "      <th>11</th>\n",
       "      <td>Eden Hazard</td>\n",
       "      <td>Belgium</td>\n",
       "      <td>1</td>\n",
       "      <td>173</td>\n",
       "      <td>74</td>\n",
       "      <td>1</td>\n",
       "      <td>26</td>\n",
       "      <td>2</td>\n",
       "      <td>4</td>\n",
       "      <td>4</td>\n",
       "      <td>...</td>\n",
       "      <td>92</td>\n",
       "      <td>59</td>\n",
       "      <td>57</td>\n",
       "      <td>79</td>\n",
       "      <td>81</td>\n",
       "      <td>82</td>\n",
       "      <td>82</td>\n",
       "      <td>79</td>\n",
       "      <td>86</td>\n",
       "      <td>79</td>\n",
       "    </tr>\n",
       "    <tr>\n",
       "      <th>12</th>\n",
       "      <td>Luka Modrić</td>\n",
       "      <td>Croatia</td>\n",
       "      <td>1</td>\n",
       "      <td>174</td>\n",
       "      <td>65</td>\n",
       "      <td>1</td>\n",
       "      <td>31</td>\n",
       "      <td>2</td>\n",
       "      <td>4</td>\n",
       "      <td>4</td>\n",
       "      <td>...</td>\n",
       "      <td>93</td>\n",
       "      <td>67</td>\n",
       "      <td>55</td>\n",
       "      <td>73</td>\n",
       "      <td>71</td>\n",
       "      <td>82</td>\n",
       "      <td>79</td>\n",
       "      <td>77</td>\n",
       "      <td>80</td>\n",
       "      <td>74</td>\n",
       "    </tr>\n",
       "    <tr>\n",
       "      <th>13</th>\n",
       "      <td>Mesut Özil</td>\n",
       "      <td>Germany</td>\n",
       "      <td>0</td>\n",
       "      <td>180</td>\n",
       "      <td>76</td>\n",
       "      <td>0</td>\n",
       "      <td>28</td>\n",
       "      <td>7</td>\n",
       "      <td>2</td>\n",
       "      <td>4</td>\n",
       "      <td>...</td>\n",
       "      <td>84</td>\n",
       "      <td>52</td>\n",
       "      <td>54</td>\n",
       "      <td>70</td>\n",
       "      <td>75</td>\n",
       "      <td>76</td>\n",
       "      <td>84</td>\n",
       "      <td>79</td>\n",
       "      <td>67</td>\n",
       "      <td>77</td>\n",
       "    </tr>\n",
       "    <tr>\n",
       "      <th>14</th>\n",
       "      <td>Gonzalo Higuaín</td>\n",
       "      <td>Argentina</td>\n",
       "      <td>0</td>\n",
       "      <td>184</td>\n",
       "      <td>92</td>\n",
       "      <td>1</td>\n",
       "      <td>29</td>\n",
       "      <td>2</td>\n",
       "      <td>4</td>\n",
       "      <td>3</td>\n",
       "      <td>...</td>\n",
       "      <td>75</td>\n",
       "      <td>77</td>\n",
       "      <td>80</td>\n",
       "      <td>86</td>\n",
       "      <td>92</td>\n",
       "      <td>80</td>\n",
       "      <td>74</td>\n",
       "      <td>62</td>\n",
       "      <td>70</td>\n",
       "      <td>88</td>\n",
       "    </tr>\n",
       "    <tr>\n",
       "      <th>15</th>\n",
       "      <td>Thiago Silva</td>\n",
       "      <td>Brazil</td>\n",
       "      <td>2</td>\n",
       "      <td>183</td>\n",
       "      <td>79</td>\n",
       "      <td>1</td>\n",
       "      <td>32</td>\n",
       "      <td>0</td>\n",
       "      <td>3</td>\n",
       "      <td>3</td>\n",
       "      <td>...</td>\n",
       "      <td>75</td>\n",
       "      <td>93</td>\n",
       "      <td>82</td>\n",
       "      <td>78</td>\n",
       "      <td>38</td>\n",
       "      <td>71</td>\n",
       "      <td>61</td>\n",
       "      <td>73</td>\n",
       "      <td>71</td>\n",
       "      <td>63</td>\n",
       "    </tr>\n",
       "    <tr>\n",
       "      <th>16</th>\n",
       "      <td>Sergio Ramos</td>\n",
       "      <td>Spain</td>\n",
       "      <td>2</td>\n",
       "      <td>183</td>\n",
       "      <td>75</td>\n",
       "      <td>1</td>\n",
       "      <td>31</td>\n",
       "      <td>2</td>\n",
       "      <td>3</td>\n",
       "      <td>3</td>\n",
       "      <td>...</td>\n",
       "      <td>80</td>\n",
       "      <td>92</td>\n",
       "      <td>90</td>\n",
       "      <td>79</td>\n",
       "      <td>60</td>\n",
       "      <td>55</td>\n",
       "      <td>73</td>\n",
       "      <td>67</td>\n",
       "      <td>68</td>\n",
       "      <td>66</td>\n",
       "    </tr>\n",
       "    <tr>\n",
       "      <th>17</th>\n",
       "      <td>Sergio Agüero</td>\n",
       "      <td>Argentina</td>\n",
       "      <td>0</td>\n",
       "      <td>173</td>\n",
       "      <td>70</td>\n",
       "      <td>1</td>\n",
       "      <td>28</td>\n",
       "      <td>2</td>\n",
       "      <td>4</td>\n",
       "      <td>4</td>\n",
       "      <td>...</td>\n",
       "      <td>86</td>\n",
       "      <td>80</td>\n",
       "      <td>68</td>\n",
       "      <td>87</td>\n",
       "      <td>90</td>\n",
       "      <td>84</td>\n",
       "      <td>82</td>\n",
       "      <td>72</td>\n",
       "      <td>80</td>\n",
       "      <td>85</td>\n",
       "    </tr>\n",
       "    <tr>\n",
       "      <th>18</th>\n",
       "      <td>Paul Pogba</td>\n",
       "      <td>France</td>\n",
       "      <td>1</td>\n",
       "      <td>191</td>\n",
       "      <td>84</td>\n",
       "      <td>1</td>\n",
       "      <td>24</td>\n",
       "      <td>2</td>\n",
       "      <td>4</td>\n",
       "      <td>5</td>\n",
       "      <td>...</td>\n",
       "      <td>79</td>\n",
       "      <td>85</td>\n",
       "      <td>73</td>\n",
       "      <td>90</td>\n",
       "      <td>71</td>\n",
       "      <td>88</td>\n",
       "      <td>82</td>\n",
       "      <td>82</td>\n",
       "      <td>76</td>\n",
       "      <td>84</td>\n",
       "    </tr>\n",
       "    <tr>\n",
       "      <th>19</th>\n",
       "      <td>Antoine Griezmann</td>\n",
       "      <td>France</td>\n",
       "      <td>0</td>\n",
       "      <td>176</td>\n",
       "      <td>67</td>\n",
       "      <td>0</td>\n",
       "      <td>26</td>\n",
       "      <td>2</td>\n",
       "      <td>3</td>\n",
       "      <td>4</td>\n",
       "      <td>...</td>\n",
       "      <td>90</td>\n",
       "      <td>87</td>\n",
       "      <td>80</td>\n",
       "      <td>81</td>\n",
       "      <td>88</td>\n",
       "      <td>82</td>\n",
       "      <td>84</td>\n",
       "      <td>75</td>\n",
       "      <td>71</td>\n",
       "      <td>87</td>\n",
       "    </tr>\n",
       "  </tbody>\n",
       "</table>\n",
       "<p>20 rows × 38 columns</p>\n",
       "</div>"
      ],
      "text/plain": [
       "                  Name Nationality Club_Position  Height  Weight  \\\n",
       "0    Cristiano Ronaldo    Portugal             1     185      80   \n",
       "1         Lionel Messi   Argentina             1     170      72   \n",
       "2               Neymar      Brazil             1     174      68   \n",
       "3          Luis Suárez     Uruguay             0     182      85   \n",
       "4         Manuel Neuer     Germany             3     193      92   \n",
       "5               De Gea       Spain             3     193      82   \n",
       "6   Robert Lewandowski      Poland             0     185      79   \n",
       "7          Gareth Bale       Wales             1     183      74   \n",
       "8   Zlatan Ibrahimović      Sweden             0     195      95   \n",
       "9     Thibaut Courtois     Belgium             3     199      91   \n",
       "10      Jérôme Boateng     Germany           Sub     192      90   \n",
       "11         Eden Hazard     Belgium             1     173      74   \n",
       "12         Luka Modrić     Croatia             1     174      65   \n",
       "13          Mesut Özil     Germany             0     180      76   \n",
       "14     Gonzalo Higuaín   Argentina             0     184      92   \n",
       "15        Thiago Silva      Brazil             2     183      79   \n",
       "16        Sergio Ramos       Spain             2     183      75   \n",
       "17       Sergio Agüero   Argentina             0     173      70   \n",
       "18          Paul Pogba      France             1     191      84   \n",
       "19   Antoine Griezmann      France             0     176      67   \n",
       "\n",
       "    Preffered_Foot  Age  Work_Rate  Weak_foot  Skill_Moves  ...  Agility  \\\n",
       "0                1   32          1          4            5  ...       90   \n",
       "1                0   29          8          4            4  ...       90   \n",
       "2                1   25          2          5            5  ...       96   \n",
       "3                1   30          2          4            4  ...       86   \n",
       "4                1   31          8          4            1  ...       52   \n",
       "5                1   26          8          3            1  ...       57   \n",
       "6                1   28          2          4            3  ...       78   \n",
       "7                0   27          2          3            4  ...       77   \n",
       "8                1   35          7          4            4  ...       86   \n",
       "9                0   24          8          3            1  ...       61   \n",
       "10               1   28          8          4            2  ...       58   \n",
       "11               1   26          2          4            4  ...       92   \n",
       "12               1   31          2          4            4  ...       93   \n",
       "13               0   28          7          2            4  ...       84   \n",
       "14               1   29          2          4            3  ...       75   \n",
       "15               1   32          0          3            3  ...       75   \n",
       "16               1   31          2          3            3  ...       80   \n",
       "17               1   28          2          4            4  ...       86   \n",
       "18               1   24          2          4            5  ...       79   \n",
       "19               0   26          2          3            4  ...       90   \n",
       "\n",
       "    Jumping  Heading  Shot_Power  Finishing  Long_Shots  Curve  \\\n",
       "0        95       85          92         93          90     81   \n",
       "1        68       71          85         95          88     89   \n",
       "2        61       62          78         89          77     79   \n",
       "3        69       77          87         94          86     86   \n",
       "4        78       25          25         13          16     14   \n",
       "5        67       21          31         13          12     21   \n",
       "6        84       85          86         91          82     77   \n",
       "7        85       86          91         87          90     86   \n",
       "8        72       80          93         90          88     82   \n",
       "9        68       13          36         14          17     19   \n",
       "10       75       86          79         34          58     56   \n",
       "11       59       57          79         81          82     82   \n",
       "12       67       55          73         71          82     79   \n",
       "13       52       54          70         75          76     84   \n",
       "14       77       80          86         92          80     74   \n",
       "15       93       82          78         38          71     61   \n",
       "16       92       90          79         60          55     73   \n",
       "17       80       68          87         90          84     82   \n",
       "18       85       73          90         71          88     82   \n",
       "19       87       80          81         88          82     84   \n",
       "\n",
       "    Freekick_Accuracy  Penalties  Volleys  \n",
       "0                  76         85       88  \n",
       "1                  90         74       85  \n",
       "2                  84         81       83  \n",
       "3                  84         85       88  \n",
       "4                  11         47       11  \n",
       "5                  19         40       13  \n",
       "6                  76         81       86  \n",
       "7                  85         76       76  \n",
       "8                  82         91       93  \n",
       "9                  11         27       12  \n",
       "10                 31         46       53  \n",
       "11                 79         86       79  \n",
       "12                 77         80       74  \n",
       "13                 79         67       77  \n",
       "14                 62         70       88  \n",
       "15                 73         71       63  \n",
       "16                 67         68       66  \n",
       "17                 72         80       85  \n",
       "18                 82         76       84  \n",
       "19                 75         71       87  \n",
       "\n",
       "[20 rows x 38 columns]"
      ]
     },
     "execution_count": 12,
     "metadata": {},
     "output_type": "execute_result"
    }
   ],
   "source": [
    "#display(features.head(20))\n",
    "Ataque=['ST', 'CAM','RS','LF','LAM','LS','RF','RAM','CF']\n",
    "MedioCampistas=['RCM','LW', 'RW', 'LCM','LM', 'RM', 'CM']\n",
    "Defensas=['LCB','RB','RCB', 'LDM','LB','CDM','RDM','CB','RWB','LWB']\n",
    "Arquero =['GK']\n",
    "con=[Ataque,MedioCampistas,Defensas,Arquero]\n",
    "for i in range(4):\n",
    "    for val in con[i]: \n",
    "        features.loc[features.Club_Position==val,'Club_Position']=i\n",
    "     \n",
    "features.head(20)\n"
   ]
  },
  {
   "cell_type": "code",
   "execution_count": 47,
   "metadata": {},
   "outputs": [
    {
     "data": {
      "text/html": [
       "<div>\n",
       "<style scoped>\n",
       "    .dataframe tbody tr th:only-of-type {\n",
       "        vertical-align: middle;\n",
       "    }\n",
       "\n",
       "    .dataframe tbody tr th {\n",
       "        vertical-align: top;\n",
       "    }\n",
       "\n",
       "    .dataframe thead th {\n",
       "        text-align: right;\n",
       "    }\n",
       "</style>\n",
       "<table border=\"1\" class=\"dataframe\">\n",
       "  <thead>\n",
       "    <tr style=\"text-align: right;\">\n",
       "      <th></th>\n",
       "      <th>Name</th>\n",
       "      <th>Nationality</th>\n",
       "      <th>Club_Position</th>\n",
       "      <th>Height</th>\n",
       "      <th>Weight</th>\n",
       "      <th>Preffered_Foot</th>\n",
       "      <th>Age</th>\n",
       "      <th>Work_Rate</th>\n",
       "      <th>Weak_foot</th>\n",
       "      <th>Skill_Moves</th>\n",
       "      <th>...</th>\n",
       "      <th>Agility</th>\n",
       "      <th>Jumping</th>\n",
       "      <th>Heading</th>\n",
       "      <th>Shot_Power</th>\n",
       "      <th>Finishing</th>\n",
       "      <th>Long_Shots</th>\n",
       "      <th>Curve</th>\n",
       "      <th>Freekick_Accuracy</th>\n",
       "      <th>Penalties</th>\n",
       "      <th>Volleys</th>\n",
       "    </tr>\n",
       "  </thead>\n",
       "  <tbody>\n",
       "    <tr>\n",
       "      <th>10</th>\n",
       "      <td>Jérôme Boateng</td>\n",
       "      <td>Germany</td>\n",
       "      <td>Sub</td>\n",
       "      <td>192.0</td>\n",
       "      <td>90.0</td>\n",
       "      <td>1.0</td>\n",
       "      <td>28.0</td>\n",
       "      <td>8.0</td>\n",
       "      <td>4.0</td>\n",
       "      <td>2.0</td>\n",
       "      <td>...</td>\n",
       "      <td>58.0</td>\n",
       "      <td>75.0</td>\n",
       "      <td>86.0</td>\n",
       "      <td>79.0</td>\n",
       "      <td>34.0</td>\n",
       "      <td>58.0</td>\n",
       "      <td>56.0</td>\n",
       "      <td>31.0</td>\n",
       "      <td>46.0</td>\n",
       "      <td>53.0</td>\n",
       "    </tr>\n",
       "    <tr>\n",
       "      <th>58</th>\n",
       "      <td>Claudio Marchisio</td>\n",
       "      <td>Italy</td>\n",
       "      <td>Sub</td>\n",
       "      <td>180.0</td>\n",
       "      <td>75.0</td>\n",
       "      <td>1.0</td>\n",
       "      <td>31.0</td>\n",
       "      <td>0.0</td>\n",
       "      <td>4.0</td>\n",
       "      <td>4.0</td>\n",
       "      <td>...</td>\n",
       "      <td>81.0</td>\n",
       "      <td>67.0</td>\n",
       "      <td>68.0</td>\n",
       "      <td>82.0</td>\n",
       "      <td>65.0</td>\n",
       "      <td>82.0</td>\n",
       "      <td>78.0</td>\n",
       "      <td>78.0</td>\n",
       "      <td>78.0</td>\n",
       "      <td>76.0</td>\n",
       "    </tr>\n",
       "    <tr>\n",
       "      <th>61</th>\n",
       "      <td>Cesc Fàbregas</td>\n",
       "      <td>Spain</td>\n",
       "      <td>Sub</td>\n",
       "      <td>175.0</td>\n",
       "      <td>74.0</td>\n",
       "      <td>1.0</td>\n",
       "      <td>29.0</td>\n",
       "      <td>2.0</td>\n",
       "      <td>3.0</td>\n",
       "      <td>3.0</td>\n",
       "      <td>...</td>\n",
       "      <td>65.0</td>\n",
       "      <td>68.0</td>\n",
       "      <td>74.0</td>\n",
       "      <td>77.0</td>\n",
       "      <td>76.0</td>\n",
       "      <td>75.0</td>\n",
       "      <td>77.0</td>\n",
       "      <td>81.0</td>\n",
       "      <td>80.0</td>\n",
       "      <td>81.0</td>\n",
       "    </tr>\n",
       "    <tr>\n",
       "      <th>62</th>\n",
       "      <td>Franck Ribéry</td>\n",
       "      <td>France</td>\n",
       "      <td>Sub</td>\n",
       "      <td>170.0</td>\n",
       "      <td>72.0</td>\n",
       "      <td>1.0</td>\n",
       "      <td>33.0</td>\n",
       "      <td>2.0</td>\n",
       "      <td>4.0</td>\n",
       "      <td>5.0</td>\n",
       "      <td>...</td>\n",
       "      <td>88.0</td>\n",
       "      <td>50.0</td>\n",
       "      <td>41.0</td>\n",
       "      <td>76.0</td>\n",
       "      <td>76.0</td>\n",
       "      <td>73.0</td>\n",
       "      <td>83.0</td>\n",
       "      <td>81.0</td>\n",
       "      <td>78.0</td>\n",
       "      <td>80.0</td>\n",
       "    </tr>\n",
       "    <tr>\n",
       "      <th>63</th>\n",
       "      <td>Santi Cazorla</td>\n",
       "      <td>Spain</td>\n",
       "      <td>Sub</td>\n",
       "      <td>168.0</td>\n",
       "      <td>66.0</td>\n",
       "      <td>1.0</td>\n",
       "      <td>32.0</td>\n",
       "      <td>8.0</td>\n",
       "      <td>5.0</td>\n",
       "      <td>4.0</td>\n",
       "      <td>...</td>\n",
       "      <td>85.0</td>\n",
       "      <td>70.0</td>\n",
       "      <td>58.0</td>\n",
       "      <td>78.0</td>\n",
       "      <td>77.0</td>\n",
       "      <td>82.0</td>\n",
       "      <td>86.0</td>\n",
       "      <td>78.0</td>\n",
       "      <td>80.0</td>\n",
       "      <td>72.0</td>\n",
       "    </tr>\n",
       "  </tbody>\n",
       "</table>\n",
       "<p>5 rows × 38 columns</p>\n",
       "</div>"
      ],
      "text/plain": [
       "                 Name Nationality Club_Position  Height  Weight  \\\n",
       "10     Jérôme Boateng     Germany           Sub   192.0    90.0   \n",
       "58  Claudio Marchisio       Italy           Sub   180.0    75.0   \n",
       "61      Cesc Fàbregas       Spain           Sub   175.0    74.0   \n",
       "62      Franck Ribéry      France           Sub   170.0    72.0   \n",
       "63      Santi Cazorla       Spain           Sub   168.0    66.0   \n",
       "\n",
       "    Preffered_Foot   Age  Work_Rate  Weak_foot  Skill_Moves  ...  Agility  \\\n",
       "10             1.0  28.0        8.0        4.0          2.0  ...     58.0   \n",
       "58             1.0  31.0        0.0        4.0          4.0  ...     81.0   \n",
       "61             1.0  29.0        2.0        3.0          3.0  ...     65.0   \n",
       "62             1.0  33.0        2.0        4.0          5.0  ...     88.0   \n",
       "63             1.0  32.0        8.0        5.0          4.0  ...     85.0   \n",
       "\n",
       "    Jumping  Heading  Shot_Power  Finishing  Long_Shots  Curve  \\\n",
       "10     75.0     86.0        79.0       34.0        58.0   56.0   \n",
       "58     67.0     68.0        82.0       65.0        82.0   78.0   \n",
       "61     68.0     74.0        77.0       76.0        75.0   77.0   \n",
       "62     50.0     41.0        76.0       76.0        73.0   83.0   \n",
       "63     70.0     58.0        78.0       77.0        82.0   86.0   \n",
       "\n",
       "    Freekick_Accuracy  Penalties  Volleys  \n",
       "10               31.0       46.0     53.0  \n",
       "58               78.0       78.0     76.0  \n",
       "61               81.0       80.0     81.0  \n",
       "62               81.0       78.0     80.0  \n",
       "63               78.0       80.0     72.0  \n",
       "\n",
       "[5 rows x 38 columns]"
      ]
     },
     "execution_count": 47,
     "metadata": {},
     "output_type": "execute_result"
    }
   ],
   "source": [
    "###Hay que quitar los subs y el otro:\n",
    "df22=(features[\"Club_Position\"]==0) | (features[\"Club_Position\"]==1) | (features[\"Club_Position\"]==2) | (features[\"Club_Position\"]==3)\n",
    "\n"
   ]
  },
  {
   "cell_type": "code",
   "execution_count": 15,
   "metadata": {
    "id": "P6hqQN-zRnCM"
   },
   "outputs": [
    {
     "name": "stdout",
     "output_type": "stream",
     "text": [
      "Cantidad de datos etiquetados como delantero: 1252\n",
      "Cantidad de datos etiquetados como defensa: 1880\n",
      "Cantidad de datos etiquetados como medio campistas: 3185\n",
      "Cantidad de datos etiquetados como arqueros: 632\n"
     ]
    }
   ],
   "source": [
    "print(f\"Cantidad de datos etiquetados como delantero: {(features.Club_Position == 0).sum()}\")\n",
    "print(f\"Cantidad de datos etiquetados como defensa: {(features.Club_Position == 1).sum()}\")\n",
    "print(f\"Cantidad de datos etiquetados como medio campistas: {(features.Club_Position== 2).sum()}\")\n",
    "print(f\"Cantidad de datos etiquetados como arqueros: {(features.Club_Position == 3).sum()}\")"
   ]
  },
  {
   "cell_type": "markdown",
   "metadata": {
    "id": "_8ofBmMQWvAL"
   },
   "source": [
    "### 1.2.2 Entrenar un pipeline"
   ]
  },
  {
   "cell_type": "markdown",
   "metadata": {
    "id": "hkFJXw6Vasj_"
   },
   "source": [
    "Aplicando el mismo preprocesamiento solicitado en 1.1.2, genere un pipeline con un clasificador a gusto y evalúe al modelo de clasificación utilizando la **librería `scikit-learn`** (esto debido a que este es un problema multi clase y las funciones solicitadas anteriormente era para una clasificación binaria).\n",
    "\n",
    "De los resultados obtenidos, ¿El modelo pudo clasificar mejor este problema o el de la sección 1.1?, Comente sus resultados.\n",
    "\n",
    "**To-Do**:\n",
    "\n",
    "- [ ] Genere un pipeline similar al visto en la sección 1.1.2.\n",
    "- [ ] Aplique las métricas ofrecidas por la librería scikit-learn.\n",
    "- [ ] Responda la pregunta del enunciado."
   ]
  },
  {
   "cell_type": "code",
   "execution_count": 13,
   "metadata": {
    "id": "lCMVwaqdYi_V"
   },
   "outputs": [],
   "source": [
    "features1 = features.drop(columns=['Club_Position'])\n",
    "labels1 = features.loc[:, 'Club_Position']\n",
    "labels[~lmask]=1\n",
    "features1=pd.concat([features1,labels],axis=1)\n",
    "\n",
    "preprocessing_transformer = ColumnTransformer(  ###Lo mismo\n",
    "    transformers=[\n",
    "        ('OneHotEncoder', OneHotEncoder(),  a1),\n",
    "        ('MinMax', MinMaxScaler(),a2), \n",
    "        ('StandardScaler', StandardScaler(), a3)])\n",
    "\n",
    "\n",
    "pipasofinal=Pipeline([('preprocessing',preprocessing_transformer),('Arbol',DecisionTreeClassifier(criterion=\"entropy\"))])\n",
    "\n",
    "features1=pipasofinal[0].fit_transform(features1).copy()\n",
    "features1= pd.DataFrame(features1)\n",
    "\n",
    "X1_train, X1_test, y1_train, y1_test = train_test_split(\n",
    "        features1, labels1, test_size=0.33, shuffle=True, stratify=labels )\n",
    "    y1_train=y1_train.astype('int')##No puede ser un objeto\n",
    "    y1_test=y1_test.astype('int')\n",
    "    Tr1=pipasofinal[1].fit(X1_train, y1_train)\n",
    "    y_pred2 = Tr1.predict(X1_test)\n",
    "    print(f\"Accuracy:{accuracy_score(y1_test, y_pred2)}\")##Poner nombres apropiados para que se vea lindo\n",
    "    print(f\"Recall:{recall_score(y1_test, y_pred2)}\")\n",
    "    print(f\"Presicion:{presicion_score(y1_test, y_pred2)}\")\n"
   ]
  },
  {
   "cell_type": "markdown",
   "metadata": {
    "id": "jYIGvmRjYh3w"
   },
   "source": [
    "**Respuesta**:\n",
    "\n",
    "```\n",
    "Comente de resultados observados.\n",
    "```"
   ]
  },
  {
   "cell_type": "markdown",
   "metadata": {
    "id": "C-vkB4xoOGtM"
   },
   "source": [
    "## 1.3 Clustering Sobre el Dataset (2 puntos)\n",
    "\n",
    "<p align=\"center\">\n",
    "  <img src=\"https://www.googleapis.com/download/storage/v1/b/kaggle-user-content/o/inbox%2F1832816%2F349289c622faaff3afc517a46fcf4c71%2Fk-means.jpg?generation=1577258176400530&alt=media\" width=\"200\">\n",
    "</p>"
   ]
  },
  {
   "cell_type": "markdown",
   "metadata": {
    "id": "LCOUC4jss148"
   },
   "source": [
    "### 1.3.1 Elección de numero de clusters\n",
    "\n",
    "<p align=\"center\">\n",
    "  <img src=\"https://media1.tenor.com/images/a85e9df2f5784d6513dce853ba9d5755/tenor.gif?itemid=18229271\" width=\"200\">\n",
    "</p>\n",
    "\n",
    "\n"
   ]
  },
  {
   "cell_type": "markdown",
   "metadata": {
    "id": "UZYqQwewJBT4"
   },
   "source": [
    "\n",
    "Entrene un k-means con 3, 4 y 5 clusters. ¿Las agrupaciones son lógicas usando un análisis visual?, Grafique los clusters con el código dispuesto más abajo y comente cual de las opciones presenta una mejor agrupación.\n",
    "\n",
    "En base al análisis realizado, ubique la posición de los cluster en la cancha. Solo señale a que posición equivaldría tomando de referencia:\n",
    "\n",
    "- Ataque\n",
    "- Medio campistas\n",
    "- Defensas\n",
    "- Arquero \n",
    "\n",
    "**To-Do**:\n",
    "\n",
    "- [ ] Escoger un numero de cluster y justificar elección.\n",
    "- [ ] Comentar si las agrupaciones son lógicas a través de un análisis visual.\n",
    "- [ ] Graficar los resultados obtenidos y visualizar las agrupaciones obtenidas.\n"
   ]
  },
  {
   "cell_type": "code",
   "execution_count": null,
   "metadata": {
    "id": "DdhaA2Ok7csU"
   },
   "outputs": [],
   "source": [
    "from umap import UMAP\n",
    "\n",
    "def graficar_clusters(clusters, preprocessed_data = preprocessed_data,posicion = df_players.Club_Position.values):\n",
    "  # Entreguele a esta función solo los clusters, el resto de parametros debería funcionar por default.\n",
    "  umap = UMAP()\n",
    "  projections = umap.fit_transform(preprocessed_data)\n",
    "  fig = px.scatter(x=projections[:,0], y=projections[:,1], color=clusters, hover_data={'posicion': posicion}) \n",
    "  fig.show()"
   ]
  },
  {
   "cell_type": "code",
   "execution_count": null,
   "metadata": {
    "id": "RpjtdoWtZIsX"
   },
   "outputs": [],
   "source": [
    "### Código aquí ###"
   ]
  },
  {
   "cell_type": "markdown",
   "metadata": {
    "id": "Ofzi66SELNof"
   },
   "source": [
    "**Respuesta**:\n",
    "\n",
    "```\n",
    "Comente de resultados observados.\n",
    "```"
   ]
  },
  {
   "cell_type": "markdown",
   "metadata": {
    "id": "GtG74Cphq56p"
   },
   "source": [
    "### 1.3.2 Búsqueda Número Óptimo de Clusters: Método del Codo **(Opcional 0.5 puntos)**\n",
    "\n",
    "<p align=\"center\">\n",
    "  <img src=\"https://c.tenor.com/fk4p5HzTi5gAAAAC/elbow-high-five.gif\" width=\"300\">\n",
    "</p>\n",
    "\n",
    "\n",
    "\n"
   ]
  },
  {
   "cell_type": "markdown",
   "metadata": {
    "id": "5srcL8mUav91"
   },
   "source": [
    "Renancin muy indeciso de sus resultados le comenta que desea realizar un último trabajo. En esta última tarea le solicita la agrupación de los datos obtenidos en la sección 1.2 utilizando K-means. Para esto usted deberá visualizar a través del método del codo el número óptimo de agrupaciones para los datos. \n",
    "\n",
    "**Hint:** Revisar las clases y encontrar el código.\n",
    "\n",
    "**To-Do**:\n",
    "\n",
    "- [ ] Pre-procesar los datos con el mismo preprocesamiento aplicado en 1.2\n",
    "- [ ] Utilizar el método del codo para obtener el número de clusters."
   ]
  },
  {
   "cell_type": "code",
   "execution_count": null,
   "metadata": {
    "id": "quMrPTciU30i"
   },
   "outputs": [],
   "source": [
    "### Código aquí ###"
   ]
  },
  {
   "cell_type": "markdown",
   "metadata": {
    "id": "4o-DvbnPZEJf"
   },
   "source": [
    "**Respuesta**:\n",
    "\n",
    "```\n",
    "Comente de resultados observados y si es posible mejorar los resultados.\n",
    "```"
   ]
  },
  {
   "cell_type": "markdown",
   "metadata": {
    "id": "Rg4ZMq8ezAH6"
   },
   "source": [
    "# Conclusión\n",
    "Eso ha sido todo para el lab de hoy, recuerden que el laboratorio tiene un plazo de entrega de una semana y que **los días de atraso no se pueden utilizar para entregas de lab, solo para tareas**. Cualquier duda del laboratorio, no duden en contactarnos por mail o U-cursos.\n",
    "\n",
    "<p align=\"center\">\n",
    "  <img src=\"https://media2.giphy.com/media/l1J3CbFgn5o7DGRuE/giphy.gif\">\n",
    "</p>"
   ]
  }
 ],
 "metadata": {
  "colab": {
   "collapsed_sections": [
    "LCOUC4jss148",
    "GtG74Cphq56p"
   ],
   "name": "Enunciado_Laboratorio3.ipynb",
   "provenance": [],
   "toc_visible": true
  },
  "kernelspec": {
   "name": "python394jvsc74a57bd0f06a86bce79acaf3acf2e76ec4fe633dd4361b94f634cdb8baa7b4f8e375f272",
   "display_name": "Python 3.9.4 64-bit"
  },
  "language_info": {
   "codemirror_mode": {
    "name": "ipython",
    "version": 3
   },
   "file_extension": ".py",
   "mimetype": "text/x-python",
   "name": "python",
   "nbconvert_exporter": "python",
   "pygments_lexer": "ipython3",
   "version": "3.9.4"
  },
  "toc": {
   "base_numbering": 1,
   "nav_menu": {},
   "number_sections": true,
   "sideBar": true,
   "skip_h1_title": true,
   "title_cell": "Tabla de Contenidos",
   "title_sidebar": "Contenidos",
   "toc_cell": false,
   "toc_position": {
    "height": "calc(100% - 180px)",
    "left": "10px",
    "top": "150px",
    "width": "241.867px"
   },
   "toc_section_display": true,
   "toc_window_display": true
  },
  "varInspector": {
   "cols": {
    "lenName": 16,
    "lenType": 16,
    "lenVar": 40
   },
   "kernels_config": {
    "python": {
     "delete_cmd_postfix": "",
     "delete_cmd_prefix": "del ",
     "library": "var_list.py",
     "varRefreshCmd": "print(var_dic_list())"
    },
    "r": {
     "delete_cmd_postfix": ") ",
     "delete_cmd_prefix": "rm(",
     "library": "var_list.r",
     "varRefreshCmd": "cat(var_dic_list()) "
    }
   },
   "types_to_exclude": [
    "module",
    "function",
    "builtin_function_or_method",
    "instance",
    "_Feature"
   ],
   "window_display": false
  },
  "metadata": {
   "interpreter": {
    "hash": "f06a86bce79acaf3acf2e76ec4fe633dd4361b94f634cdb8baa7b4f8e375f272"
   }
  }
 },
 "nbformat": 4,
 "nbformat_minor": 1
}